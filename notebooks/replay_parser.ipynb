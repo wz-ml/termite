{
 "cells": [
  {
   "cell_type": "code",
   "execution_count": 33,
   "metadata": {},
   "outputs": [],
   "source": [
    "with open(\"7-2-2024-22-30-50.replay\", 'r') as f:\n",
    "    content = f.read()\n",
    "\n",
    "import json\n",
    "json_strings = content.strip().split('\\n')\n",
    "parsed_data = []\n",
    "for json_str in json_strings:\n",
    "    try:\n",
    "        parsed_data.append(json.loads(json_str))\n",
    "    except:\n",
    "        print(\"Error parsing JSON\")"
   ]
  },
  {
   "cell_type": "code",
   "execution_count": 34,
   "metadata": {},
   "outputs": [
    {
     "name": "stdout",
     "output_type": "stream",
     "text": [
      "The autoreload extension is already loaded. To reload it, use:\n",
      "  %reload_ext autoreload\n"
     ]
    }
   ],
   "source": [
    "%load_ext autoreload\n",
    "%autoreload 2\n",
    "\n",
    "from termite.game import TerminalGame, Player\n",
    "from termite.units import Scout, Demolisher, Interceptor, Turret, Support, Wall"
   ]
  },
  {
   "cell_type": "code",
   "execution_count": 85,
   "metadata": {},
   "outputs": [],
   "source": [
    "# Format: \n",
    "# Default keys: [p1Units, p1Stats, p2Units, p2Stats, events, turnInfo]\n",
    "# Frame 1 is unique (start of the game). All keys are different from the default keys: [debug, unitInformation, timingAndReplay, resources, SeasonCompatibilityModeP1, SeasonCompatibilityModeP2]\n",
    "# Frame -1 is unique (end of the game). There's the additional key endStats.\n",
    "\n",
    "from collections import defaultdict\n",
    "\n",
    "start_info = parsed_data[0]\n",
    "end_info = parsed_data[-1]\n",
    "frames = parsed_data[1:-1]\n",
    "\n",
    "spawn_events = {}\n",
    "spawn_map = {0: \"wall\",\n",
    "            1: \"support\",\n",
    "            2: \"turret\",\n",
    "            3: \"scout\",\n",
    "            4: \"demolisher\",\n",
    "            5: \"interceptor\",\n",
    "            7: \"upgrade\"}\n",
    "\n",
    "for frame in frames:\n",
    "    in_active_phase, round_idx, frame_in_round, global_frame_idx = frame[\"turnInfo\"]\n",
    "    in_active_phase = bool(in_active_phase)\n",
    "    if not in_active_phase:\n",
    "        # Deployment phase\n",
    "        for spawn_event in frames[1][\"events\"][\"spawn\"]:\n",
    "            pos, obj_type, index, player = spawn_event\n",
    "            type_name = spawn_map[obj_type]\n",
    "            if player not in spawn_events:\n",
    "                spawn_events[player] = {}\n",
    "            if round_idx not in spawn_events[player]:\n",
    "                spawn_events[player][global_frame_idx] = defaultdict(list)\n",
    "            spawn_events[player][global_frame_idx][type_name].append(pos)\n"
   ]
  },
  {
   "cell_type": "code",
   "execution_count": 88,
   "metadata": {},
   "outputs": [
    {
     "data": {
      "text/plain": [
       "dict_keys(['p2Units', 'turnInfo', 'p1Stats', 'p1Units', 'p2Stats', 'events'])"
      ]
     },
     "execution_count": 88,
     "metadata": {},
     "output_type": "execute_result"
    }
   ],
   "source": [
    "frames[1].keys()"
   ]
  },
  {
   "cell_type": "markdown",
   "metadata": {},
   "source": [
    "Notes:\n",
    "- Spawning -> moving happens on the same single turn!"
   ]
  },
  {
   "cell_type": "code",
   "execution_count": 104,
   "metadata": {},
   "outputs": [],
   "source": [
    "class ReplayPlayer(Player):\n",
    "    def __init__(self, spawn_events: dict):\n",
    "        super().__init__()\n",
    "        self.round_idx = 0\n",
    "        self.spawn_events = [i[1] for i in sorted(spawn_events.items(), key=lambda x: x[0])]\n",
    "    def deploy(self, game_state):\n",
    "        spawn_events = self.spawn_events[self.round_idx]\n",
    "        deployments = []\n",
    "        for unit_type, positions in spawn_events.items():\n",
    "            for pos in positions:\n",
    "                if unit_type == \"scout\":\n",
    "                    deployments.append((Scout(), tuple(pos)))\n",
    "                elif unit_type == \"demolisher\":\n",
    "                    deployments.append((Demolisher(), tuple(pos)))\n",
    "                elif unit_type == \"interceptor\":\n",
    "                    deployments.append((Interceptor(), tuple(pos)))\n",
    "                elif unit_type == \"turret\":\n",
    "                    deployments.append((Turret(), tuple(pos)))\n",
    "                elif unit_type == \"support\":\n",
    "                    deployments.append((Support(), tuple(pos)))\n",
    "                elif unit_type == \"wall\":\n",
    "                    deployments.append((Wall(), tuple(pos)))\n",
    "        return deployments\n",
    "    def upgrade(self, game_state):\n",
    "        spawn_events = self.spawn_events[self.round_idx]\n",
    "        upgrades = []\n",
    "        for unit_type, positions in spawn_events.items():\n",
    "            for pos in positions:\n",
    "                if unit_type == \"upgrade\":\n",
    "                    upgrades.append(tuple(pos))\n",
    "        self.round_idx += 1\n",
    "        return upgrades"
   ]
  },
  {
   "cell_type": "code",
   "execution_count": 108,
   "metadata": {},
   "outputs": [
    {
     "name": "stdout",
     "output_type": "stream",
     "text": [
      "Turn: 0/100\n",
      "Frame: 0\n",
      "\n",
      "Player 1: \u001b[31m♥♥♥♥♥♥♥♥♥♥♥♥♥♥♥♥♥♥♥♥♥♥♥♥♥♥♥♥♥♥\u001b[0m                          \n",
      "Player 2: \u001b[31m♥♥♥♥♥♥♥♥♥♥♥♥♥♥♥♥♥♥♥♥♥♥♥♥♥♥♥♥♥♥                          \u001b[0m\n",
      "\n",
      "P1 Resources - Mobile: \u001b[36m5.0\u001b[0m, Structure: \u001b[33m40.0\u001b[0m\n",
      "P2 Resources - Mobile: \u001b[36m5.0\u001b[0m, Structure: \u001b[33m40.0\u001b[0m\n",
      "\n",
      "                          \u001b[37m· \u001b[0m\u001b[37m· \u001b[0m                          \n",
      "                        \u001b[37m· \u001b[0m\u001b[37m· \u001b[0m\u001b[37m· \u001b[0m\u001b[37m· \u001b[0m                        \n",
      "                      \u001b[37m· \u001b[0m\u001b[37m· \u001b[0m\u001b[37m· \u001b[0m\u001b[37m· \u001b[0m\u001b[37m· \u001b[0m\u001b[37m· \u001b[0m                      \n",
      "                    \u001b[37m· \u001b[0m\u001b[37m· \u001b[0m\u001b[37m· \u001b[0m\u001b[37m· \u001b[0m\u001b[37m· \u001b[0m\u001b[37m· \u001b[0m\u001b[37m· \u001b[0m\u001b[37m· \u001b[0m                    \n",
      "                  \u001b[37m· \u001b[0m\u001b[37m· \u001b[0m\u001b[37m· \u001b[0m\u001b[37m· \u001b[0m\u001b[37m· \u001b[0m\u001b[37m· \u001b[0m\u001b[37m· \u001b[0m\u001b[37m· \u001b[0m\u001b[37m· \u001b[0m\u001b[37m· \u001b[0m                  \n",
      "                \u001b[37m· \u001b[0m\u001b[37m· \u001b[0m\u001b[37m· \u001b[0m\u001b[37m· \u001b[0m\u001b[37m· \u001b[0m\u001b[37m· \u001b[0m\u001b[37m· \u001b[0m\u001b[37m· \u001b[0m\u001b[37m· \u001b[0m\u001b[37m· \u001b[0m\u001b[37m· \u001b[0m\u001b[37m· \u001b[0m                \n",
      "              \u001b[37m· \u001b[0m\u001b[37m· \u001b[0m\u001b[37m· \u001b[0m\u001b[37m· \u001b[0m\u001b[37m· \u001b[0m\u001b[37m· \u001b[0m\u001b[37m· \u001b[0m\u001b[37m· \u001b[0m\u001b[37m· \u001b[0m\u001b[37m· \u001b[0m\u001b[37m· \u001b[0m\u001b[37m· \u001b[0m\u001b[37m· \u001b[0m\u001b[37m· \u001b[0m              \n",
      "            \u001b[37m· \u001b[0m\u001b[37m· \u001b[0m\u001b[37m· \u001b[0m\u001b[37m· \u001b[0m\u001b[37m· \u001b[0m\u001b[37m· \u001b[0m\u001b[37m· \u001b[0m\u001b[37m· \u001b[0m\u001b[37m· \u001b[0m\u001b[37m· \u001b[0m\u001b[37m· \u001b[0m\u001b[37m· \u001b[0m\u001b[37m· \u001b[0m\u001b[37m· \u001b[0m\u001b[37m· \u001b[0m\u001b[37m· \u001b[0m            \n",
      "          \u001b[37m· \u001b[0m\u001b[37m· \u001b[0m\u001b[37m· \u001b[0m\u001b[37m· \u001b[0m\u001b[37m· \u001b[0m\u001b[37m· \u001b[0m\u001b[37m· \u001b[0m\u001b[37m· \u001b[0m\u001b[37m· \u001b[0m\u001b[37m· \u001b[0m\u001b[37m· \u001b[0m\u001b[37m· \u001b[0m\u001b[37m· \u001b[0m\u001b[37m· \u001b[0m\u001b[37m· \u001b[0m\u001b[37m· \u001b[0m\u001b[37m· \u001b[0m\u001b[37m· \u001b[0m          \n",
      "        \u001b[37m· \u001b[0m\u001b[37m· \u001b[0m\u001b[37m· \u001b[0m\u001b[37m· \u001b[0m\u001b[37m· \u001b[0m\u001b[37m· \u001b[0m\u001b[37m· \u001b[0m\u001b[37m· \u001b[0m\u001b[37m· \u001b[0m\u001b[37m· \u001b[0m\u001b[37m· \u001b[0m\u001b[37m· \u001b[0m\u001b[37m· \u001b[0m\u001b[37m· \u001b[0m\u001b[37m· \u001b[0m\u001b[37m· \u001b[0m\u001b[37m· \u001b[0m\u001b[37m· \u001b[0m\u001b[37m· \u001b[0m\u001b[37m· \u001b[0m        \n",
      "      \u001b[37m· \u001b[0m\u001b[37m· \u001b[0m\u001b[37m· \u001b[0m\u001b[37m· \u001b[0m\u001b[37m· \u001b[0m\u001b[37m· \u001b[0m\u001b[37m· \u001b[0m\u001b[37m· \u001b[0m\u001b[37m· \u001b[0m\u001b[37m· \u001b[0m\u001b[37m· \u001b[0m\u001b[37m· \u001b[0m\u001b[37m· \u001b[0m\u001b[37m· \u001b[0m\u001b[37m· \u001b[0m\u001b[37m· \u001b[0m\u001b[37m· \u001b[0m\u001b[37m· \u001b[0m\u001b[37m· \u001b[0m\u001b[37m· \u001b[0m\u001b[37m· \u001b[0m\u001b[37m· \u001b[0m      \n",
      "    \u001b[37m· \u001b[0m\u001b[37m· \u001b[0m\u001b[37m· \u001b[0m\u001b[37m· \u001b[0m\u001b[37m· \u001b[0m\u001b[37m· \u001b[0m\u001b[37m· \u001b[0m\u001b[37m· \u001b[0m\u001b[37m· \u001b[0m\u001b[37m· \u001b[0m\u001b[37m· \u001b[0m\u001b[37m· \u001b[0m\u001b[37m· \u001b[0m\u001b[37m· \u001b[0m\u001b[37m· \u001b[0m\u001b[37m· \u001b[0m\u001b[37m· \u001b[0m\u001b[37m· \u001b[0m\u001b[37m· \u001b[0m\u001b[37m· \u001b[0m\u001b[37m· \u001b[0m\u001b[37m· \u001b[0m\u001b[37m· \u001b[0m\u001b[37m· \u001b[0m    \n",
      "  \u001b[37m· \u001b[0m\u001b[37m· \u001b[0m\u001b[37m· \u001b[0m\u001b[37m· \u001b[0m\u001b[37m· \u001b[0m\u001b[37m· \u001b[0m\u001b[37m· \u001b[0m\u001b[37m· \u001b[0m\u001b[37m· \u001b[0m\u001b[37m· \u001b[0m\u001b[37m· \u001b[0m\u001b[37m· \u001b[0m\u001b[37m· \u001b[0m\u001b[37m· \u001b[0m\u001b[37m· \u001b[0m\u001b[37m· \u001b[0m\u001b[37m· \u001b[0m\u001b[37m· \u001b[0m\u001b[37m· \u001b[0m\u001b[37m· \u001b[0m\u001b[37m· \u001b[0m\u001b[37m· \u001b[0m\u001b[37m· \u001b[0m\u001b[37m· \u001b[0m\u001b[37m· \u001b[0m\u001b[37m· \u001b[0m  \n",
      "\u001b[37m· \u001b[0m\u001b[37m· \u001b[0m\u001b[37m· \u001b[0m\u001b[37m· \u001b[0m\u001b[37m· \u001b[0m\u001b[37m· \u001b[0m\u001b[37m· \u001b[0m\u001b[37m· \u001b[0m\u001b[37m· \u001b[0m\u001b[37m· \u001b[0m\u001b[37m· \u001b[0m\u001b[37m· \u001b[0m\u001b[37m· \u001b[0m\u001b[37m· \u001b[0m\u001b[37m· \u001b[0m\u001b[37m· \u001b[0m\u001b[37m· \u001b[0m\u001b[37m· \u001b[0m\u001b[37m· \u001b[0m\u001b[37m· \u001b[0m\u001b[37m· \u001b[0m\u001b[37m· \u001b[0m\u001b[37m· \u001b[0m\u001b[37m· \u001b[0m\u001b[37m· \u001b[0m\u001b[37m· \u001b[0m\u001b[37m· \u001b[0m\u001b[37m· \u001b[0m\n",
      "\u001b[37m· \u001b[0m\u001b[37m· \u001b[0m\u001b[37m· \u001b[0m\u001b[37m· \u001b[0m\u001b[37m· \u001b[0m\u001b[37m· \u001b[0m\u001b[37m· \u001b[0m\u001b[37m· \u001b[0m\u001b[37m· \u001b[0m\u001b[37m· \u001b[0m\u001b[37m· \u001b[0m\u001b[37m· \u001b[0m\u001b[37m· \u001b[0m\u001b[37m· \u001b[0m\u001b[37m· \u001b[0m\u001b[37m· \u001b[0m\u001b[37m· \u001b[0m\u001b[37m· \u001b[0m\u001b[37m· \u001b[0m\u001b[37m· \u001b[0m\u001b[37m· \u001b[0m\u001b[37m· \u001b[0m\u001b[37m· \u001b[0m\u001b[37m· \u001b[0m\u001b[37m· \u001b[0m\u001b[37m· \u001b[0m\u001b[37m· \u001b[0m\u001b[37m· \u001b[0m\n",
      "  \u001b[37m· \u001b[0m\u001b[37m· \u001b[0m\u001b[37m· \u001b[0m\u001b[37m· \u001b[0m\u001b[37m· \u001b[0m\u001b[37m· \u001b[0m\u001b[37m· \u001b[0m\u001b[37m· \u001b[0m\u001b[37m· \u001b[0m\u001b[37m· \u001b[0m\u001b[37m· \u001b[0m\u001b[37m· \u001b[0m\u001b[37m· \u001b[0m\u001b[37m· \u001b[0m\u001b[37m· \u001b[0m\u001b[37m· \u001b[0m\u001b[37m· \u001b[0m\u001b[37m· \u001b[0m\u001b[37m· \u001b[0m\u001b[37m· \u001b[0m\u001b[37m· \u001b[0m\u001b[37m· \u001b[0m\u001b[37m· \u001b[0m\u001b[37m· \u001b[0m\u001b[37m· \u001b[0m\u001b[37m· \u001b[0m  \n",
      "    \u001b[37m· \u001b[0m\u001b[37m· \u001b[0m\u001b[37m· \u001b[0m\u001b[37m· \u001b[0m\u001b[37m· \u001b[0m\u001b[37m· \u001b[0m\u001b[37m· \u001b[0m\u001b[37m· \u001b[0m\u001b[37m· \u001b[0m\u001b[37m· \u001b[0m\u001b[37m· \u001b[0m\u001b[37m· \u001b[0m\u001b[37m· \u001b[0m\u001b[37m· \u001b[0m\u001b[37m· \u001b[0m\u001b[37m· \u001b[0m\u001b[37m· \u001b[0m\u001b[37m· \u001b[0m\u001b[37m· \u001b[0m\u001b[37m· \u001b[0m\u001b[37m· \u001b[0m\u001b[37m· \u001b[0m\u001b[37m· \u001b[0m\u001b[37m· \u001b[0m    \n",
      "      \u001b[37m· \u001b[0m\u001b[37m· \u001b[0m\u001b[37m· \u001b[0m\u001b[37m· \u001b[0m\u001b[37m· \u001b[0m\u001b[37m· \u001b[0m\u001b[37m· \u001b[0m\u001b[37m· \u001b[0m\u001b[37m· \u001b[0m\u001b[37m· \u001b[0m\u001b[37m· \u001b[0m\u001b[37m· \u001b[0m\u001b[37m· \u001b[0m\u001b[37m· \u001b[0m\u001b[37m· \u001b[0m\u001b[37m· \u001b[0m\u001b[37m· \u001b[0m\u001b[37m· \u001b[0m\u001b[37m· \u001b[0m\u001b[37m· \u001b[0m\u001b[37m· \u001b[0m\u001b[37m· \u001b[0m      \n",
      "        \u001b[37m· \u001b[0m\u001b[37m· \u001b[0m\u001b[37m· \u001b[0m\u001b[37m· \u001b[0m\u001b[37m· \u001b[0m\u001b[37m· \u001b[0m\u001b[37m· \u001b[0m\u001b[37m· \u001b[0m\u001b[37m· \u001b[0m\u001b[37m· \u001b[0m\u001b[37m· \u001b[0m\u001b[37m· \u001b[0m\u001b[37m· \u001b[0m\u001b[37m· \u001b[0m\u001b[37m· \u001b[0m\u001b[37m· \u001b[0m\u001b[37m· \u001b[0m\u001b[37m· \u001b[0m\u001b[37m· \u001b[0m\u001b[37m· \u001b[0m        \n",
      "          \u001b[37m· \u001b[0m\u001b[37m· \u001b[0m\u001b[37m· \u001b[0m\u001b[37m· \u001b[0m\u001b[37m· \u001b[0m\u001b[37m· \u001b[0m\u001b[37m· \u001b[0m\u001b[37m· \u001b[0m\u001b[37m· \u001b[0m\u001b[37m· \u001b[0m\u001b[37m· \u001b[0m\u001b[37m· \u001b[0m\u001b[37m· \u001b[0m\u001b[37m· \u001b[0m\u001b[37m· \u001b[0m\u001b[37m· \u001b[0m\u001b[37m· \u001b[0m\u001b[37m· \u001b[0m          \n",
      "            \u001b[37m· \u001b[0m\u001b[37m· \u001b[0m\u001b[37m· \u001b[0m\u001b[37m· \u001b[0m\u001b[37m· \u001b[0m\u001b[37m· \u001b[0m\u001b[37m· \u001b[0m\u001b[37m· \u001b[0m\u001b[37m· \u001b[0m\u001b[37m· \u001b[0m\u001b[37m· \u001b[0m\u001b[37m· \u001b[0m\u001b[37m· \u001b[0m\u001b[37m· \u001b[0m\u001b[37m· \u001b[0m\u001b[37m· \u001b[0m            \n",
      "              \u001b[37m· \u001b[0m\u001b[37m· \u001b[0m\u001b[37m· \u001b[0m\u001b[37m· \u001b[0m\u001b[37m· \u001b[0m\u001b[37m· \u001b[0m\u001b[37m· \u001b[0m\u001b[37m· \u001b[0m\u001b[37m· \u001b[0m\u001b[37m· \u001b[0m\u001b[37m· \u001b[0m\u001b[37m· \u001b[0m\u001b[37m· \u001b[0m\u001b[37m· \u001b[0m              \n",
      "                \u001b[37m· \u001b[0m\u001b[37m· \u001b[0m\u001b[37m· \u001b[0m\u001b[37m· \u001b[0m\u001b[37m· \u001b[0m\u001b[37m· \u001b[0m\u001b[37m· \u001b[0m\u001b[37m· \u001b[0m\u001b[37m· \u001b[0m\u001b[37m· \u001b[0m\u001b[37m· \u001b[0m\u001b[37m· \u001b[0m                \n",
      "                  \u001b[37m· \u001b[0m\u001b[37m· \u001b[0m\u001b[37m· \u001b[0m\u001b[37m· \u001b[0m\u001b[37m· \u001b[0m\u001b[37m· \u001b[0m\u001b[37m· \u001b[0m\u001b[37m· \u001b[0m\u001b[37m· \u001b[0m\u001b[37m· \u001b[0m                  \n",
      "                    \u001b[37m· \u001b[0m\u001b[37m· \u001b[0m\u001b[37m· \u001b[0m\u001b[37m· \u001b[0m\u001b[37m· \u001b[0m\u001b[37m· \u001b[0m\u001b[37m· \u001b[0m\u001b[37m· \u001b[0m                    \n",
      "                      \u001b[37m· \u001b[0m\u001b[37m· \u001b[0m\u001b[37m· \u001b[0m\u001b[37m· \u001b[0m\u001b[37m· \u001b[0m\u001b[37m· \u001b[0m                      \n",
      "                        \u001b[37m· \u001b[0m\u001b[37m· \u001b[0m\u001b[37m· \u001b[0m\u001b[37m· \u001b[0m                        \n",
      "                          \u001b[37m· \u001b[0m\u001b[37m· \u001b[0m                          \n",
      "\n",
      "Legend:\n",
      "\u001b[32mGreen\u001b[0m: High Health, \u001b[33mYellow\u001b[0m: Medium Health, \u001b[31mRed\u001b[0m: Low Health\n",
      "S/s: Scout, D/d: Demolisher, I/i: Interceptor\n",
      "W/w: Wall, U/u: Support, T/t: Turret\n",
      "Uppercase: Player 1, Lowercase: Player 2\n"
     ]
    }
   ],
   "source": [
    "rp1 = ReplayPlayer(spawn_events[1])\n",
    "rp2 = ReplayPlayer(spawn_events[2])\n",
    "\n",
    "game = TerminalGame(rp1, rp2)\n",
    "print(game.render())"
   ]
  },
  {
   "cell_type": "code",
   "execution_count": 109,
   "metadata": {},
   "outputs": [
    {
     "name": "stdout",
     "output_type": "stream",
     "text": [
      "Turn: 0/100\n",
      "Frame: 0\n",
      "\n",
      "Player 1: \u001b[31m♥♥♥♥♥♥♥♥♥♥♥♥♥♥♥♥♥♥♥♥♥♥♥♥♥♥♥♥♥♥\u001b[0m                          \n",
      "Player 2: \u001b[31m♥♥♥♥♥♥♥♥♥♥♥♥♥♥♥♥♥♥♥♥♥♥♥♥♥♥♥♥♥♥                          \u001b[0m\n",
      "\n",
      "P1 Resources - Mobile: \u001b[36m0.0\u001b[0m, Structure: \u001b[33m1.0\u001b[0m\n",
      "P2 Resources - Mobile: \u001b[36m0.0\u001b[0m, Structure: \u001b[33m0.0\u001b[0m\n",
      "\n",
      "                          \u001b[32mu \u001b[0m\u001b[32mu \u001b[0m                          \n",
      "                        \u001b[37m· \u001b[0m\u001b[32mu \u001b[0m\u001b[37m· \u001b[0m\u001b[37m· \u001b[0m                        \n",
      "                      \u001b[32mi \u001b[0m\u001b[37m· \u001b[0m\u001b[37m· \u001b[0m\u001b[37m· \u001b[0m\u001b[37m· \u001b[0m\u001b[32mi \u001b[0m                      \n",
      "                    \u001b[37m· \u001b[0m\u001b[37m· \u001b[0m\u001b[37m· \u001b[0m\u001b[37m· \u001b[0m\u001b[37m· \u001b[0m\u001b[37m· \u001b[0m\u001b[37m· \u001b[0m\u001b[37m· \u001b[0m                    \n",
      "                  \u001b[37m· \u001b[0m\u001b[37m· \u001b[0m\u001b[37m· \u001b[0m\u001b[37m· \u001b[0m\u001b[37m· \u001b[0m\u001b[37m· \u001b[0m\u001b[37m· \u001b[0m\u001b[37m· \u001b[0m\u001b[37m· \u001b[0m\u001b[37m· \u001b[0m                  \n",
      "                \u001b[37m· \u001b[0m\u001b[37m· \u001b[0m\u001b[37m· \u001b[0m\u001b[37m· \u001b[0m\u001b[37m· \u001b[0m\u001b[37m· \u001b[0m\u001b[37m· \u001b[0m\u001b[37m· \u001b[0m\u001b[37m· \u001b[0m\u001b[37m· \u001b[0m\u001b[37m· \u001b[0m\u001b[37m· \u001b[0m                \n",
      "              \u001b[37m· \u001b[0m\u001b[37m· \u001b[0m\u001b[37m· \u001b[0m\u001b[37m· \u001b[0m\u001b[37m· \u001b[0m\u001b[37m· \u001b[0m\u001b[37m· \u001b[0m\u001b[37m· \u001b[0m\u001b[37m· \u001b[0m\u001b[37m· \u001b[0m\u001b[37m· \u001b[0m\u001b[37m· \u001b[0m\u001b[37m· \u001b[0m\u001b[37m· \u001b[0m              \n",
      "            \u001b[32mi \u001b[0m\u001b[37m· \u001b[0m\u001b[37m· \u001b[0m\u001b[37m· \u001b[0m\u001b[37m· \u001b[0m\u001b[37m· \u001b[0m\u001b[37m· \u001b[0m\u001b[37m· \u001b[0m\u001b[37m· \u001b[0m\u001b[37m· \u001b[0m\u001b[37m· \u001b[0m\u001b[37m· \u001b[0m\u001b[37m· \u001b[0m\u001b[37m· \u001b[0m\u001b[37m· \u001b[0m\u001b[32mi \u001b[0m            \n",
      "          \u001b[37m· \u001b[0m\u001b[37m· \u001b[0m\u001b[37m· \u001b[0m\u001b[37m· \u001b[0m\u001b[37m· \u001b[0m\u001b[37m· \u001b[0m\u001b[37m· \u001b[0m\u001b[37m· \u001b[0m\u001b[37m· \u001b[0m\u001b[37m· \u001b[0m\u001b[37m· \u001b[0m\u001b[37m· \u001b[0m\u001b[37m· \u001b[0m\u001b[37m· \u001b[0m\u001b[37m· \u001b[0m\u001b[37m· \u001b[0m\u001b[37m· \u001b[0m\u001b[37m· \u001b[0m          \n",
      "        \u001b[37m· \u001b[0m\u001b[37m· \u001b[0m\u001b[37m· \u001b[0m\u001b[37m· \u001b[0m\u001b[37m· \u001b[0m\u001b[37m· \u001b[0m\u001b[37m· \u001b[0m\u001b[37m· \u001b[0m\u001b[37m· \u001b[0m\u001b[37m· \u001b[0m\u001b[37m· \u001b[0m\u001b[37m· \u001b[0m\u001b[37m· \u001b[0m\u001b[37m· \u001b[0m\u001b[37m· \u001b[0m\u001b[37m· \u001b[0m\u001b[37m· \u001b[0m\u001b[37m· \u001b[0m\u001b[37m· \u001b[0m\u001b[37m· \u001b[0m        \n",
      "      \u001b[37m· \u001b[0m\u001b[37m· \u001b[0m\u001b[37m· \u001b[0m\u001b[37m· \u001b[0m\u001b[37m· \u001b[0m\u001b[37m· \u001b[0m\u001b[37m· \u001b[0m\u001b[37m· \u001b[0m\u001b[37m· \u001b[0m\u001b[37m· \u001b[0m\u001b[37m· \u001b[0m\u001b[37m· \u001b[0m\u001b[37m· \u001b[0m\u001b[37m· \u001b[0m\u001b[37m· \u001b[0m\u001b[37m· \u001b[0m\u001b[37m· \u001b[0m\u001b[37m· \u001b[0m\u001b[37m· \u001b[0m\u001b[37m· \u001b[0m\u001b[37m· \u001b[0m\u001b[37m· \u001b[0m      \n",
      "    \u001b[37m· \u001b[0m\u001b[37m· \u001b[0m\u001b[37m· \u001b[0m\u001b[37m· \u001b[0m\u001b[37m· \u001b[0m\u001b[37m· \u001b[0m\u001b[37m· \u001b[0m\u001b[37m· \u001b[0m\u001b[37m· \u001b[0m\u001b[37m· \u001b[0m\u001b[37m· \u001b[0m\u001b[37m· \u001b[0m\u001b[37m· \u001b[0m\u001b[37m· \u001b[0m\u001b[37m· \u001b[0m\u001b[37m· \u001b[0m\u001b[37m· \u001b[0m\u001b[37m· \u001b[0m\u001b[37m· \u001b[0m\u001b[37m· \u001b[0m\u001b[37m· \u001b[0m\u001b[37m· \u001b[0m\u001b[37m· \u001b[0m\u001b[37m· \u001b[0m    \n",
      "  \u001b[37m· \u001b[0m\u001b[37m· \u001b[0m\u001b[32mt \u001b[0m\u001b[37m· \u001b[0m\u001b[37m· \u001b[0m\u001b[37m· \u001b[0m\u001b[37m· \u001b[0m\u001b[37m· \u001b[0m\u001b[37m· \u001b[0m\u001b[37m· \u001b[0m\u001b[37m· \u001b[0m\u001b[37m· \u001b[0m\u001b[37m· \u001b[0m\u001b[37m· \u001b[0m\u001b[37m· \u001b[0m\u001b[37m· \u001b[0m\u001b[37m· \u001b[0m\u001b[37m· \u001b[0m\u001b[37m· \u001b[0m\u001b[37m· \u001b[0m\u001b[37m· \u001b[0m\u001b[37m· \u001b[0m\u001b[37m· \u001b[0m\u001b[32mt \u001b[0m\u001b[37m· \u001b[0m\u001b[37m· \u001b[0m  \n",
      "\u001b[37m· \u001b[0m\u001b[37m· \u001b[0m\u001b[37m· \u001b[0m\u001b[32mw \u001b[0m\u001b[37m· \u001b[0m\u001b[37m· \u001b[0m\u001b[37m· \u001b[0m\u001b[37m· \u001b[0m\u001b[37m· \u001b[0m\u001b[37m· \u001b[0m\u001b[37m· \u001b[0m\u001b[37m· \u001b[0m\u001b[37m· \u001b[0m\u001b[37m· \u001b[0m\u001b[37m· \u001b[0m\u001b[37m· \u001b[0m\u001b[37m· \u001b[0m\u001b[37m· \u001b[0m\u001b[37m· \u001b[0m\u001b[37m· \u001b[0m\u001b[37m· \u001b[0m\u001b[37m· \u001b[0m\u001b[37m· \u001b[0m\u001b[37m· \u001b[0m\u001b[32mw \u001b[0m\u001b[37m· \u001b[0m\u001b[37m· \u001b[0m\u001b[37m· \u001b[0m\n",
      "\u001b[32mW \u001b[0m\u001b[32mW \u001b[0m\u001b[32mW \u001b[0m\u001b[37m· \u001b[0m\u001b[37m· \u001b[0m\u001b[37m· \u001b[0m\u001b[37m· \u001b[0m\u001b[37m· \u001b[0m\u001b[37m· \u001b[0m\u001b[37m· \u001b[0m\u001b[37m· \u001b[0m\u001b[37m· \u001b[0m\u001b[37m· \u001b[0m\u001b[37m· \u001b[0m\u001b[37m· \u001b[0m\u001b[37m· \u001b[0m\u001b[37m· \u001b[0m\u001b[37m· \u001b[0m\u001b[37m· \u001b[0m\u001b[37m· \u001b[0m\u001b[37m· \u001b[0m\u001b[37m· \u001b[0m\u001b[37m· \u001b[0m\u001b[37m· \u001b[0m\u001b[37m· \u001b[0m\u001b[32mW \u001b[0m\u001b[32mW \u001b[0m\u001b[32mW \u001b[0m\n",
      "  \u001b[37m· \u001b[0m\u001b[37m· \u001b[0m\u001b[32mW \u001b[0m\u001b[37m· \u001b[0m\u001b[37m· \u001b[0m\u001b[37m· \u001b[0m\u001b[37m· \u001b[0m\u001b[37m· \u001b[0m\u001b[37m· \u001b[0m\u001b[37m· \u001b[0m\u001b[37m· \u001b[0m\u001b[37m· \u001b[0m\u001b[37m· \u001b[0m\u001b[37m· \u001b[0m\u001b[37m· \u001b[0m\u001b[37m· \u001b[0m\u001b[37m· \u001b[0m\u001b[37m· \u001b[0m\u001b[37m· \u001b[0m\u001b[37m· \u001b[0m\u001b[37m· \u001b[0m\u001b[37m· \u001b[0m\u001b[37m· \u001b[0m\u001b[32mW \u001b[0m\u001b[37m· \u001b[0m\u001b[37m· \u001b[0m  \n",
      "    \u001b[37m· \u001b[0m\u001b[37m· \u001b[0m\u001b[32mW \u001b[0m\u001b[37m· \u001b[0m\u001b[37m· \u001b[0m\u001b[37m· \u001b[0m\u001b[37m· \u001b[0m\u001b[37m· \u001b[0m\u001b[32mW \u001b[0m\u001b[37m· \u001b[0m\u001b[32mW \u001b[0m\u001b[37m· \u001b[0m\u001b[37m· \u001b[0m\u001b[37m· \u001b[0m\u001b[32mW \u001b[0m\u001b[37m· \u001b[0m\u001b[37m· \u001b[0m\u001b[32mW \u001b[0m\u001b[37m· \u001b[0m\u001b[32mW \u001b[0m\u001b[37m· \u001b[0m\u001b[32mW \u001b[0m\u001b[37m· \u001b[0m\u001b[37m· \u001b[0m    \n",
      "      \u001b[37m· \u001b[0m\u001b[37m· \u001b[0m\u001b[32mW \u001b[0m\u001b[37m· \u001b[0m\u001b[37m· \u001b[0m\u001b[37m· \u001b[0m\u001b[32mW \u001b[0m\u001b[32mT \u001b[0m\u001b[37m· \u001b[0m\u001b[37m· \u001b[0m\u001b[32mW \u001b[0m\u001b[37m· \u001b[0m\u001b[37m· \u001b[0m\u001b[37m· \u001b[0m\u001b[32mW \u001b[0m\u001b[37m· \u001b[0m\u001b[37m· \u001b[0m\u001b[32mW \u001b[0m\u001b[37m· \u001b[0m\u001b[32mW \u001b[0m\u001b[37m· \u001b[0m\u001b[37m· \u001b[0m      \n",
      "        \u001b[37m· \u001b[0m\u001b[37m· \u001b[0m\u001b[32mW \u001b[0m\u001b[37m· \u001b[0m\u001b[32mW \u001b[0m\u001b[37m· \u001b[0m\u001b[37m· \u001b[0m\u001b[37m· \u001b[0m\u001b[37m· \u001b[0m\u001b[37m· \u001b[0m\u001b[32mW \u001b[0m\u001b[37m· \u001b[0m\u001b[37m· \u001b[0m\u001b[37m· \u001b[0m\u001b[32mW \u001b[0m\u001b[37m· \u001b[0m\u001b[32mT \u001b[0m\u001b[37m· \u001b[0m\u001b[37m· \u001b[0m\u001b[37m· \u001b[0m        \n",
      "          \u001b[37m· \u001b[0m\u001b[37m· \u001b[0m\u001b[32mW \u001b[0m\u001b[37m· \u001b[0m\u001b[37m· \u001b[0m\u001b[37m· \u001b[0m\u001b[37m· \u001b[0m\u001b[37m· \u001b[0m\u001b[37m· \u001b[0m\u001b[37m· \u001b[0m\u001b[32mW \u001b[0m\u001b[37m· \u001b[0m\u001b[32mW \u001b[0m\u001b[32mT \u001b[0m\u001b[37m· \u001b[0m\u001b[37m· \u001b[0m\u001b[37m· \u001b[0m\u001b[37m· \u001b[0m          \n",
      "            \u001b[37m· \u001b[0m\u001b[37m· \u001b[0m\u001b[37m· \u001b[0m\u001b[37m· \u001b[0m\u001b[37m· \u001b[0m\u001b[37m· \u001b[0m\u001b[37m· \u001b[0m\u001b[37m· \u001b[0m\u001b[37m· \u001b[0m\u001b[37m· \u001b[0m\u001b[32mW \u001b[0m\u001b[37m· \u001b[0m\u001b[37m· \u001b[0m\u001b[37m· \u001b[0m\u001b[37m· \u001b[0m\u001b[37m· \u001b[0m            \n",
      "              \u001b[37m· \u001b[0m\u001b[37m· \u001b[0m\u001b[37m· \u001b[0m\u001b[37m· \u001b[0m\u001b[37m· \u001b[0m\u001b[37m· \u001b[0m\u001b[37m· \u001b[0m\u001b[37m· \u001b[0m\u001b[37m· \u001b[0m\u001b[37m· \u001b[0m\u001b[37m· \u001b[0m\u001b[37m· \u001b[0m\u001b[37m· \u001b[0m\u001b[37m· \u001b[0m              \n",
      "                \u001b[37m· \u001b[0m\u001b[37m· \u001b[0m\u001b[37m· \u001b[0m\u001b[37m· \u001b[0m\u001b[37m· \u001b[0m\u001b[37m· \u001b[0m\u001b[37m· \u001b[0m\u001b[37m· \u001b[0m\u001b[37m· \u001b[0m\u001b[37m· \u001b[0m\u001b[37m· \u001b[0m\u001b[37m· \u001b[0m                \n",
      "                  \u001b[37m· \u001b[0m\u001b[37m· \u001b[0m\u001b[37m· \u001b[0m\u001b[37m· \u001b[0m\u001b[37m· \u001b[0m\u001b[37m· \u001b[0m\u001b[37m· \u001b[0m\u001b[37m· \u001b[0m\u001b[37m· \u001b[0m\u001b[32mI \u001b[0m                  \n",
      "                    \u001b[37m· \u001b[0m\u001b[37m· \u001b[0m\u001b[37m· \u001b[0m\u001b[37m· \u001b[0m\u001b[37m· \u001b[0m\u001b[37m· \u001b[0m\u001b[37m· \u001b[0m\u001b[37m· \u001b[0m                    \n",
      "                      \u001b[37m· \u001b[0m\u001b[37m· \u001b[0m\u001b[37m· \u001b[0m\u001b[37m· \u001b[0m\u001b[37m· \u001b[0m\u001b[37m· \u001b[0m                      \n",
      "                        \u001b[37m· \u001b[0m\u001b[37m· \u001b[0m\u001b[37m· \u001b[0m\u001b[37m· \u001b[0m                        \n",
      "                          \u001b[37m· \u001b[0m\u001b[37m· \u001b[0m                          \n",
      "\n",
      "Legend:\n",
      "\u001b[32mGreen\u001b[0m: High Health, \u001b[33mYellow\u001b[0m: Medium Health, \u001b[31mRed\u001b[0m: Low Health\n",
      "S/s: Scout, D/d: Demolisher, I/i: Interceptor\n",
      "W/w: Wall, U/u: Support, T/t: Turret\n",
      "Uppercase: Player 1, Lowercase: Player 2\n"
     ]
    }
   ],
   "source": [
    "game.deploy_phase()\n",
    "print(game.render())"
   ]
  },
  {
   "cell_type": "code",
   "execution_count": null,
   "metadata": {},
   "outputs": [],
   "source": []
  }
 ],
 "metadata": {
  "kernelspec": {
   "display_name": "terminal",
   "language": "python",
   "name": "python3"
  },
  "language_info": {
   "codemirror_mode": {
    "name": "ipython",
    "version": 3
   },
   "file_extension": ".py",
   "mimetype": "text/x-python",
   "name": "python",
   "nbconvert_exporter": "python",
   "pygments_lexer": "ipython3",
   "version": "3.9.19"
  }
 },
 "nbformat": 4,
 "nbformat_minor": 2
}
