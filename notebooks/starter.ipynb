{
 "cells": [
  {
   "cell_type": "code",
   "execution_count": 2,
   "metadata": {},
   "outputs": [],
   "source": [
    "%load_ext autoreload\n",
    "%autoreload 2\n",
    "\n",
    "from termite.game import TerminalGame, Player\n",
    "from termite.units import Scout, Demolisher, Interceptor, Turret, Support, Wall"
   ]
  },
  {
   "cell_type": "code",
   "execution_count": 2,
   "metadata": {},
   "outputs": [],
   "source": [
    "class HumanPlayer(Player):\n",
    "    def __init__(self, name):\n",
    "        super().__init__()\n",
    "        self.name = name\n",
    "\n",
    "    def deploy(self, game_state):\n",
    "        print(f\"\\n{self.name}'s turn to deploy units and structures.\")\n",
    "        print(f\"Mobile Points: {self.mobile_points}, Structure Points: {self.structure_points}\")\n",
    "        \n",
    "        deployments = []        \n",
    "        while True:\n",
    "            action = input(\"Enter action (deploy/break/done): \").lower().strip()\n",
    "            \n",
    "            if action == \"done\":\n",
    "                break\n",
    "            elif action == \"deploy\":\n",
    "                deployments.extend(self.handle_deployment())\n",
    "            elif action == \"break\":\n",
    "                raise KeyboardInterrupt\n",
    "            else:\n",
    "                print(\"Invalid action. Please enter 'deploy', 'done', or 'break'.\")\n",
    "        \n",
    "        return deployments\n",
    "\n",
    "    def handle_deployment(self):\n",
    "        deployments = []\n",
    "        while True:\n",
    "            unit_type = input(\"Enter unit type (scout/demolisher/interceptor/wall/support/turret) or 'done': \").lower().strip()\n",
    "            if unit_type == \"done\":\n",
    "                break\n",
    "            \n",
    "            if unit_type not in [\"scout\", \"demolisher\", \"interceptor\", \"wall\", \"support\", \"turret\"]:\n",
    "                print(\"Invalid unit type. Please try again.\")\n",
    "                continue\n",
    "            \n",
    "            position = input(\"Enter position (x,y): \")\n",
    "            try:\n",
    "                x, y = map(int, position.split(','))\n",
    "            except ValueError:\n",
    "                print(\"Invalid position format. Please use 'x,y'.\")\n",
    "                continue\n",
    "            \n",
    "            unit = self.create_unit(unit_type)\n",
    "            if unit:\n",
    "                deployments.append((unit, (x, y)))\n",
    "            else:\n",
    "                print(f\"Not enough resources to deploy {unit_type}.\")\n",
    "        \n",
    "        return deployments\n",
    "\n",
    "    def create_unit(self, unit_type):\n",
    "        if unit_type == \"scout\" and self.mobile_points >= 1:\n",
    "            return Scout()\n",
    "        elif unit_type == \"demolisher\" and self.mobile_points >= 3:\n",
    "            return Demolisher()\n",
    "        elif unit_type == \"interceptor\" and self.mobile_points >= 1:\n",
    "            return Interceptor()\n",
    "        elif unit_type == \"wall\" and self.structure_points >= 1:\n",
    "            return Wall()\n",
    "        elif unit_type == \"support\" and self.structure_points >= 4:\n",
    "            return Support()\n",
    "        elif unit_type == \"turret\" and self.structure_points >= 2:\n",
    "            return Turret()\n",
    "        else:\n",
    "            return None"
   ]
  },
  {
   "cell_type": "code",
   "execution_count": 3,
   "metadata": {},
   "outputs": [],
   "source": [
    "class TestPlayer(Player):\n",
    "    def deploy(self, game_state, deploy_str: str):\n",
    "        deployed_units = []\n",
    "        for unit_str in deploy_str.split(','):\n",
    "            unit_type, x, y = unit_str.split()\n",
    "            unit = self.create_unit(unit_type)\n",
    "            if unit:\n",
    "                deployed_units.append((unit, (int(x), int(y))))\n",
    "        return deployed_units\n",
    "    def create_unit(self, unit_type):\n",
    "        if unit_type == \"scout\" and self.mobile_points >= 1:\n",
    "            return Scout()\n",
    "        elif unit_type == \"demolisher\" and self.mobile_points >= 3:\n",
    "            return Demolisher()\n",
    "        elif unit_type == \"interceptor\" and self.mobile_points >= 1:\n",
    "            return Interceptor()\n",
    "        elif unit_type == \"wall\" and self.structure_points >= 1:\n",
    "            return Wall()\n",
    "        elif unit_type == \"support\" and self.structure_points >= 4:\n",
    "            return Support()\n",
    "        elif unit_type == \"turret\" and self.structure_points >= 2:\n",
    "            return Turret()\n",
    "        else:\n",
    "            return None"
   ]
  },
  {
   "cell_type": "code",
   "execution_count": 6,
   "metadata": {},
   "outputs": [],
   "source": [
    "player1 = TestPlayer()\n",
    "player2 = TestPlayer()\n",
    "game = TerminalGame(player1, player2)\n",
    "\n",
    "import pickle as pkl\n",
    "with open(\"init_state.pkl\", \"wb\") as f:\n",
    "    init_state = game.get_game_state()\n",
    "    pkl.dump(init_state, f)"
   ]
  },
  {
   "cell_type": "code",
   "execution_count": 8,
   "metadata": {},
   "outputs": [
    {
     "name": "stdout",
     "output_type": "stream",
     "text": [
      "Invalid deployment: Scout at (11, 12)\n"
     ]
    }
   ],
   "source": [
    "dep = [\"scout 5 8\", \"\"]\n",
    "for idx, player in enumerate((player1, player2)):\n",
    "    player_deployments = player.deploy(dep[idx])\n",
    "    \n",
    "    for deployment in player_deployments:\n",
    "        unit, position = deployment\n",
    "        if game.is_valid_deployment(player, unit, position):\n",
    "            if player.can_afford(unit):\n",
    "                game.place_unit(player, unit, position)\n",
    "                player.deduct_cost(unit)\n",
    "            else:\n",
    "                print(f\"Player cannot afford to deploy {unit.unit_type}\")\n",
    "        else:\n",
    "            print(f\"Invalid deployment: {unit.unit_type} at {position}\")\n",
    "game.upgrade_phase()"
   ]
  },
  {
   "cell_type": "code",
   "execution_count": 11,
   "metadata": {},
   "outputs": [],
   "source": [
    "with open(\"dep_1_scout_1.pkl\", \"wb\") as f:\n",
    "    s = game.get_game_state()\n",
    "    pkl.dump(s, f)"
   ]
  },
  {
   "cell_type": "code",
   "execution_count": 10,
   "metadata": {},
   "outputs": [
    {
     "name": "stdout",
     "output_type": "stream",
     "text": [
      "Turn: 0/100\n",
      "Frame: 0\n",
      "\n",
      "Player 1: \u001b[31m♥♥♥♥♥♥♥♥♥♥♥♥♥♥♥♥♥♥♥♥♥♥♥♥♥♥♥♥♥♥\u001b[0m                          \n",
      "Player 2: \u001b[31m♥♥♥♥♥♥♥♥♥♥♥♥♥♥♥♥♥♥♥♥♥♥♥♥♥♥♥♥♥♥                          \u001b[0m\n",
      "\n",
      "P1 Resources - Mobile: \u001b[36m4.0\u001b[0m, Structure: \u001b[33m40.0\u001b[0m\n",
      "P2 Resources - Mobile: \u001b[36m5.0\u001b[0m, Structure: \u001b[33m40.0\u001b[0m\n",
      "\n",
      "                          \u001b[37m· \u001b[0m\u001b[37m· \u001b[0m                          \n",
      "                        \u001b[37m· \u001b[0m\u001b[37m· \u001b[0m\u001b[37m· \u001b[0m\u001b[37m· \u001b[0m                        \n",
      "                      \u001b[37m· \u001b[0m\u001b[37m· \u001b[0m\u001b[37m· \u001b[0m\u001b[37m· \u001b[0m\u001b[37m· \u001b[0m\u001b[37m· \u001b[0m                      \n",
      "                    \u001b[37m· \u001b[0m\u001b[37m· \u001b[0m\u001b[37m· \u001b[0m\u001b[37m· \u001b[0m\u001b[37m· \u001b[0m\u001b[37m· \u001b[0m\u001b[37m· \u001b[0m\u001b[37m· \u001b[0m                    \n",
      "                  \u001b[37m· \u001b[0m\u001b[37m· \u001b[0m\u001b[37m· \u001b[0m\u001b[37m· \u001b[0m\u001b[37m· \u001b[0m\u001b[37m· \u001b[0m\u001b[37m· \u001b[0m\u001b[37m· \u001b[0m\u001b[37m· \u001b[0m\u001b[37m· \u001b[0m                  \n",
      "                \u001b[37m· \u001b[0m\u001b[37m· \u001b[0m\u001b[37m· \u001b[0m\u001b[37m· \u001b[0m\u001b[37m· \u001b[0m\u001b[37m· \u001b[0m\u001b[37m· \u001b[0m\u001b[37m· \u001b[0m\u001b[37m· \u001b[0m\u001b[37m· \u001b[0m\u001b[37m· \u001b[0m\u001b[37m· \u001b[0m                \n",
      "              \u001b[37m· \u001b[0m\u001b[37m· \u001b[0m\u001b[37m· \u001b[0m\u001b[37m· \u001b[0m\u001b[37m· \u001b[0m\u001b[37m· \u001b[0m\u001b[37m· \u001b[0m\u001b[37m· \u001b[0m\u001b[37m· \u001b[0m\u001b[37m· \u001b[0m\u001b[37m· \u001b[0m\u001b[37m· \u001b[0m\u001b[37m· \u001b[0m\u001b[37m· \u001b[0m              \n",
      "            \u001b[37m· \u001b[0m\u001b[37m· \u001b[0m\u001b[37m· \u001b[0m\u001b[37m· \u001b[0m\u001b[37m· \u001b[0m\u001b[37m· \u001b[0m\u001b[37m· \u001b[0m\u001b[37m· \u001b[0m\u001b[37m· \u001b[0m\u001b[37m· \u001b[0m\u001b[37m· \u001b[0m\u001b[37m· \u001b[0m\u001b[37m· \u001b[0m\u001b[37m· \u001b[0m\u001b[37m· \u001b[0m\u001b[37m· \u001b[0m            \n",
      "          \u001b[37m· \u001b[0m\u001b[37m· \u001b[0m\u001b[37m· \u001b[0m\u001b[37m· \u001b[0m\u001b[37m· \u001b[0m\u001b[37m· \u001b[0m\u001b[37m· \u001b[0m\u001b[37m· \u001b[0m\u001b[37m· \u001b[0m\u001b[37m· \u001b[0m\u001b[37m· \u001b[0m\u001b[37m· \u001b[0m\u001b[37m· \u001b[0m\u001b[37m· \u001b[0m\u001b[37m· \u001b[0m\u001b[37m· \u001b[0m\u001b[37m· \u001b[0m\u001b[37m· \u001b[0m          \n",
      "        \u001b[37m· \u001b[0m\u001b[37m· \u001b[0m\u001b[37m· \u001b[0m\u001b[37m· \u001b[0m\u001b[37m· \u001b[0m\u001b[37m· \u001b[0m\u001b[37m· \u001b[0m\u001b[37m· \u001b[0m\u001b[37m· \u001b[0m\u001b[37m· \u001b[0m\u001b[37m· \u001b[0m\u001b[37m· \u001b[0m\u001b[37m· \u001b[0m\u001b[37m· \u001b[0m\u001b[37m· \u001b[0m\u001b[37m· \u001b[0m\u001b[37m· \u001b[0m\u001b[37m· \u001b[0m\u001b[37m· \u001b[0m\u001b[37m· \u001b[0m        \n",
      "      \u001b[37m· \u001b[0m\u001b[37m· \u001b[0m\u001b[37m· \u001b[0m\u001b[37m· \u001b[0m\u001b[37m· \u001b[0m\u001b[37m· \u001b[0m\u001b[37m· \u001b[0m\u001b[37m· \u001b[0m\u001b[37m· \u001b[0m\u001b[37m· \u001b[0m\u001b[37m· \u001b[0m\u001b[37m· \u001b[0m\u001b[37m· \u001b[0m\u001b[37m· \u001b[0m\u001b[37m· \u001b[0m\u001b[37m· \u001b[0m\u001b[37m· \u001b[0m\u001b[37m· \u001b[0m\u001b[37m· \u001b[0m\u001b[37m· \u001b[0m\u001b[37m· \u001b[0m\u001b[37m· \u001b[0m      \n",
      "    \u001b[37m· \u001b[0m\u001b[37m· \u001b[0m\u001b[37m· \u001b[0m\u001b[37m· \u001b[0m\u001b[37m· \u001b[0m\u001b[37m· \u001b[0m\u001b[37m· \u001b[0m\u001b[37m· \u001b[0m\u001b[37m· \u001b[0m\u001b[37m· \u001b[0m\u001b[37m· \u001b[0m\u001b[37m· \u001b[0m\u001b[37m· \u001b[0m\u001b[37m· \u001b[0m\u001b[37m· \u001b[0m\u001b[37m· \u001b[0m\u001b[37m· \u001b[0m\u001b[37m· \u001b[0m\u001b[37m· \u001b[0m\u001b[37m· \u001b[0m\u001b[37m· \u001b[0m\u001b[37m· \u001b[0m\u001b[37m· \u001b[0m\u001b[37m· \u001b[0m    \n",
      "  \u001b[37m· \u001b[0m\u001b[37m· \u001b[0m\u001b[37m· \u001b[0m\u001b[37m· \u001b[0m\u001b[37m· \u001b[0m\u001b[37m· \u001b[0m\u001b[37m· \u001b[0m\u001b[37m· \u001b[0m\u001b[37m· \u001b[0m\u001b[37m· \u001b[0m\u001b[37m· \u001b[0m\u001b[37m· \u001b[0m\u001b[37m· \u001b[0m\u001b[37m· \u001b[0m\u001b[37m· \u001b[0m\u001b[37m· \u001b[0m\u001b[37m· \u001b[0m\u001b[37m· \u001b[0m\u001b[37m· \u001b[0m\u001b[37m· \u001b[0m\u001b[37m· \u001b[0m\u001b[37m· \u001b[0m\u001b[37m· \u001b[0m\u001b[37m· \u001b[0m\u001b[37m· \u001b[0m\u001b[37m· \u001b[0m  \n",
      "\u001b[37m· \u001b[0m\u001b[37m· \u001b[0m\u001b[37m· \u001b[0m\u001b[37m· \u001b[0m\u001b[37m· \u001b[0m\u001b[37m· \u001b[0m\u001b[37m· \u001b[0m\u001b[37m· \u001b[0m\u001b[37m· \u001b[0m\u001b[37m· \u001b[0m\u001b[37m· \u001b[0m\u001b[37m· \u001b[0m\u001b[37m· \u001b[0m\u001b[37m· \u001b[0m\u001b[37m· \u001b[0m\u001b[37m· \u001b[0m\u001b[37m· \u001b[0m\u001b[37m· \u001b[0m\u001b[37m· \u001b[0m\u001b[37m· \u001b[0m\u001b[37m· \u001b[0m\u001b[37m· \u001b[0m\u001b[37m· \u001b[0m\u001b[37m· \u001b[0m\u001b[37m· \u001b[0m\u001b[37m· \u001b[0m\u001b[37m· \u001b[0m\u001b[37m· \u001b[0m\n",
      "\u001b[37m· \u001b[0m\u001b[37m· \u001b[0m\u001b[37m· \u001b[0m\u001b[37m· \u001b[0m\u001b[37m· \u001b[0m\u001b[37m· \u001b[0m\u001b[37m· \u001b[0m\u001b[37m· \u001b[0m\u001b[37m· \u001b[0m\u001b[37m· \u001b[0m\u001b[37m· \u001b[0m\u001b[37m· \u001b[0m\u001b[37m· \u001b[0m\u001b[37m· \u001b[0m\u001b[37m· \u001b[0m\u001b[37m· \u001b[0m\u001b[37m· \u001b[0m\u001b[37m· \u001b[0m\u001b[37m· \u001b[0m\u001b[37m· \u001b[0m\u001b[37m· \u001b[0m\u001b[37m· \u001b[0m\u001b[37m· \u001b[0m\u001b[37m· \u001b[0m\u001b[37m· \u001b[0m\u001b[37m· \u001b[0m\u001b[37m· \u001b[0m\u001b[37m· \u001b[0m\n",
      "  \u001b[37m· \u001b[0m\u001b[37m· \u001b[0m\u001b[37m· \u001b[0m\u001b[37m· \u001b[0m\u001b[37m· \u001b[0m\u001b[37m· \u001b[0m\u001b[37m· \u001b[0m\u001b[37m· \u001b[0m\u001b[37m· \u001b[0m\u001b[37m· \u001b[0m\u001b[37m· \u001b[0m\u001b[37m· \u001b[0m\u001b[37m· \u001b[0m\u001b[37m· \u001b[0m\u001b[37m· \u001b[0m\u001b[37m· \u001b[0m\u001b[37m· \u001b[0m\u001b[37m· \u001b[0m\u001b[37m· \u001b[0m\u001b[37m· \u001b[0m\u001b[37m· \u001b[0m\u001b[37m· \u001b[0m\u001b[37m· \u001b[0m\u001b[37m· \u001b[0m\u001b[37m· \u001b[0m\u001b[37m· \u001b[0m  \n",
      "    \u001b[37m· \u001b[0m\u001b[37m· \u001b[0m\u001b[37m· \u001b[0m\u001b[37m· \u001b[0m\u001b[37m· \u001b[0m\u001b[37m· \u001b[0m\u001b[37m· \u001b[0m\u001b[37m· \u001b[0m\u001b[37m· \u001b[0m\u001b[37m· \u001b[0m\u001b[37m· \u001b[0m\u001b[37m· \u001b[0m\u001b[37m· \u001b[0m\u001b[37m· \u001b[0m\u001b[37m· \u001b[0m\u001b[37m· \u001b[0m\u001b[37m· \u001b[0m\u001b[37m· \u001b[0m\u001b[37m· \u001b[0m\u001b[37m· \u001b[0m\u001b[37m· \u001b[0m\u001b[37m· \u001b[0m\u001b[37m· \u001b[0m\u001b[37m· \u001b[0m    \n",
      "      \u001b[37m· \u001b[0m\u001b[37m· \u001b[0m\u001b[37m· \u001b[0m\u001b[37m· \u001b[0m\u001b[37m· \u001b[0m\u001b[37m· \u001b[0m\u001b[37m· \u001b[0m\u001b[37m· \u001b[0m\u001b[37m· \u001b[0m\u001b[37m· \u001b[0m\u001b[37m· \u001b[0m\u001b[37m· \u001b[0m\u001b[37m· \u001b[0m\u001b[37m· \u001b[0m\u001b[37m· \u001b[0m\u001b[37m· \u001b[0m\u001b[37m· \u001b[0m\u001b[37m· \u001b[0m\u001b[37m· \u001b[0m\u001b[37m· \u001b[0m\u001b[37m· \u001b[0m\u001b[37m· \u001b[0m      \n",
      "        \u001b[37m· \u001b[0m\u001b[37m· \u001b[0m\u001b[37m· \u001b[0m\u001b[37m· \u001b[0m\u001b[37m· \u001b[0m\u001b[37m· \u001b[0m\u001b[37m· \u001b[0m\u001b[37m· \u001b[0m\u001b[37m· \u001b[0m\u001b[37m· \u001b[0m\u001b[37m· \u001b[0m\u001b[37m· \u001b[0m\u001b[37m· \u001b[0m\u001b[37m· \u001b[0m\u001b[37m· \u001b[0m\u001b[37m· \u001b[0m\u001b[37m· \u001b[0m\u001b[37m· \u001b[0m\u001b[37m· \u001b[0m\u001b[37m· \u001b[0m        \n",
      "          \u001b[32mS \u001b[0m\u001b[37m· \u001b[0m\u001b[37m· \u001b[0m\u001b[37m· \u001b[0m\u001b[37m· \u001b[0m\u001b[37m· \u001b[0m\u001b[37m· \u001b[0m\u001b[37m· \u001b[0m\u001b[37m· \u001b[0m\u001b[37m· \u001b[0m\u001b[37m· \u001b[0m\u001b[37m· \u001b[0m\u001b[37m· \u001b[0m\u001b[37m· \u001b[0m\u001b[37m· \u001b[0m\u001b[37m· \u001b[0m\u001b[37m· \u001b[0m\u001b[37m· \u001b[0m          \n",
      "            \u001b[37m· \u001b[0m\u001b[37m· \u001b[0m\u001b[37m· \u001b[0m\u001b[37m· \u001b[0m\u001b[37m· \u001b[0m\u001b[37m· \u001b[0m\u001b[37m· \u001b[0m\u001b[37m· \u001b[0m\u001b[37m· \u001b[0m\u001b[37m· \u001b[0m\u001b[37m· \u001b[0m\u001b[37m· \u001b[0m\u001b[37m· \u001b[0m\u001b[37m· \u001b[0m\u001b[37m· \u001b[0m\u001b[37m· \u001b[0m            \n",
      "              \u001b[37m· \u001b[0m\u001b[37m· \u001b[0m\u001b[37m· \u001b[0m\u001b[37m· \u001b[0m\u001b[37m· \u001b[0m\u001b[37m· \u001b[0m\u001b[37m· \u001b[0m\u001b[37m· \u001b[0m\u001b[37m· \u001b[0m\u001b[37m· \u001b[0m\u001b[37m· \u001b[0m\u001b[37m· \u001b[0m\u001b[37m· \u001b[0m\u001b[37m· \u001b[0m              \n",
      "                \u001b[37m· \u001b[0m\u001b[37m· \u001b[0m\u001b[37m· \u001b[0m\u001b[37m· \u001b[0m\u001b[37m· \u001b[0m\u001b[37m· \u001b[0m\u001b[37m· \u001b[0m\u001b[37m· \u001b[0m\u001b[37m· \u001b[0m\u001b[37m· \u001b[0m\u001b[37m· \u001b[0m\u001b[37m· \u001b[0m                \n",
      "                  \u001b[37m· \u001b[0m\u001b[37m· \u001b[0m\u001b[37m· \u001b[0m\u001b[37m· \u001b[0m\u001b[37m· \u001b[0m\u001b[37m· \u001b[0m\u001b[37m· \u001b[0m\u001b[37m· \u001b[0m\u001b[37m· \u001b[0m\u001b[37m· \u001b[0m                  \n",
      "                    \u001b[37m· \u001b[0m\u001b[37m· \u001b[0m\u001b[37m· \u001b[0m\u001b[37m· \u001b[0m\u001b[37m· \u001b[0m\u001b[37m· \u001b[0m\u001b[37m· \u001b[0m\u001b[37m· \u001b[0m                    \n",
      "                      \u001b[37m· \u001b[0m\u001b[37m· \u001b[0m\u001b[37m· \u001b[0m\u001b[37m· \u001b[0m\u001b[37m· \u001b[0m\u001b[37m· \u001b[0m                      \n",
      "                        \u001b[37m· \u001b[0m\u001b[37m· \u001b[0m\u001b[37m· \u001b[0m\u001b[37m· \u001b[0m                        \n",
      "                          \u001b[37m· \u001b[0m\u001b[37m· \u001b[0m                          \n",
      "\n",
      "Legend:\n",
      "\u001b[32mGreen\u001b[0m: High Health, \u001b[33mYellow\u001b[0m: Medium Health, \u001b[31mRed\u001b[0m: Low Health\n",
      "S/s: Scout, D/d: Demolisher, I/i: Interceptor\n",
      "W/w: Wall, U/u: Support, T/t: Turret\n",
      "Uppercase: Player 1, Lowercase: Player 2\n"
     ]
    }
   ],
   "source": [
    "print(game.render())"
   ]
  },
  {
   "cell_type": "code",
   "execution_count": 3,
   "metadata": {},
   "outputs": [],
   "source": [
    "player1 = HumanPlayer(\"Joe Biden\")\n",
    "player2 = HumanPlayer(\"Donald Trump\")\n",
    "game = TerminalGame(player1, player2)"
   ]
  },
  {
   "cell_type": "code",
   "execution_count": 4,
   "metadata": {},
   "outputs": [
    {
     "name": "stdout",
     "output_type": "stream",
     "text": [
      "Turn: 0/100\n",
      "Frame: 0\n",
      "\n",
      "Player 1: \u001b[31m♥♥♥♥♥♥♥♥♥♥♥♥♥♥♥♥♥♥♥♥♥♥♥♥♥♥♥♥♥♥\u001b[0m                          \n",
      "Player 2: \u001b[31m♥♥♥♥♥♥♥♥♥♥♥♥♥♥♥♥♥♥♥♥♥♥♥♥♥♥♥♥♥♥                          \u001b[0m\n",
      "\n",
      "P1 Resources - Mobile: \u001b[36m5.0\u001b[0m, Structure: \u001b[33m40.0\u001b[0m\n",
      "P2 Resources - Mobile: \u001b[36m5.0\u001b[0m, Structure: \u001b[33m40.0\u001b[0m\n",
      "\n",
      "                          \u001b[37m· \u001b[0m\u001b[37m· \u001b[0m                          \n",
      "                        \u001b[37m· \u001b[0m\u001b[37m· \u001b[0m\u001b[37m· \u001b[0m\u001b[37m· \u001b[0m                        \n",
      "                      \u001b[37m· \u001b[0m\u001b[37m· \u001b[0m\u001b[37m· \u001b[0m\u001b[37m· \u001b[0m\u001b[37m· \u001b[0m\u001b[37m· \u001b[0m                      \n",
      "                    \u001b[37m· \u001b[0m\u001b[37m· \u001b[0m\u001b[37m· \u001b[0m\u001b[37m· \u001b[0m\u001b[37m· \u001b[0m\u001b[37m· \u001b[0m\u001b[37m· \u001b[0m\u001b[37m· \u001b[0m                    \n",
      "                  \u001b[37m· \u001b[0m\u001b[37m· \u001b[0m\u001b[37m· \u001b[0m\u001b[37m· \u001b[0m\u001b[37m· \u001b[0m\u001b[37m· \u001b[0m\u001b[37m· \u001b[0m\u001b[37m· \u001b[0m\u001b[37m· \u001b[0m\u001b[37m· \u001b[0m                  \n",
      "                \u001b[37m· \u001b[0m\u001b[37m· \u001b[0m\u001b[37m· \u001b[0m\u001b[37m· \u001b[0m\u001b[37m· \u001b[0m\u001b[37m· \u001b[0m\u001b[37m· \u001b[0m\u001b[37m· \u001b[0m\u001b[37m· \u001b[0m\u001b[37m· \u001b[0m\u001b[37m· \u001b[0m\u001b[37m· \u001b[0m                \n",
      "              \u001b[37m· \u001b[0m\u001b[37m· \u001b[0m\u001b[37m· \u001b[0m\u001b[37m· \u001b[0m\u001b[37m· \u001b[0m\u001b[37m· \u001b[0m\u001b[37m· \u001b[0m\u001b[37m· \u001b[0m\u001b[37m· \u001b[0m\u001b[37m· \u001b[0m\u001b[37m· \u001b[0m\u001b[37m· \u001b[0m\u001b[37m· \u001b[0m\u001b[37m· \u001b[0m              \n",
      "            \u001b[37m· \u001b[0m\u001b[37m· \u001b[0m\u001b[37m· \u001b[0m\u001b[37m· \u001b[0m\u001b[37m· \u001b[0m\u001b[37m· \u001b[0m\u001b[37m· \u001b[0m\u001b[37m· \u001b[0m\u001b[37m· \u001b[0m\u001b[37m· \u001b[0m\u001b[37m· \u001b[0m\u001b[37m· \u001b[0m\u001b[37m· \u001b[0m\u001b[37m· \u001b[0m\u001b[37m· \u001b[0m\u001b[37m· \u001b[0m            \n",
      "          \u001b[37m· \u001b[0m\u001b[37m· \u001b[0m\u001b[37m· \u001b[0m\u001b[37m· \u001b[0m\u001b[37m· \u001b[0m\u001b[37m· \u001b[0m\u001b[37m· \u001b[0m\u001b[37m· \u001b[0m\u001b[37m· \u001b[0m\u001b[37m· \u001b[0m\u001b[37m· \u001b[0m\u001b[37m· \u001b[0m\u001b[37m· \u001b[0m\u001b[37m· \u001b[0m\u001b[37m· \u001b[0m\u001b[37m· \u001b[0m\u001b[37m· \u001b[0m\u001b[37m· \u001b[0m          \n",
      "        \u001b[37m· \u001b[0m\u001b[37m· \u001b[0m\u001b[37m· \u001b[0m\u001b[37m· \u001b[0m\u001b[37m· \u001b[0m\u001b[37m· \u001b[0m\u001b[37m· \u001b[0m\u001b[37m· \u001b[0m\u001b[37m· \u001b[0m\u001b[37m· \u001b[0m\u001b[37m· \u001b[0m\u001b[37m· \u001b[0m\u001b[37m· \u001b[0m\u001b[37m· \u001b[0m\u001b[37m· \u001b[0m\u001b[37m· \u001b[0m\u001b[37m· \u001b[0m\u001b[37m· \u001b[0m\u001b[37m· \u001b[0m\u001b[37m· \u001b[0m        \n",
      "      \u001b[37m· \u001b[0m\u001b[37m· \u001b[0m\u001b[37m· \u001b[0m\u001b[37m· \u001b[0m\u001b[37m· \u001b[0m\u001b[37m· \u001b[0m\u001b[37m· \u001b[0m\u001b[37m· \u001b[0m\u001b[37m· \u001b[0m\u001b[37m· \u001b[0m\u001b[37m· \u001b[0m\u001b[37m· \u001b[0m\u001b[37m· \u001b[0m\u001b[37m· \u001b[0m\u001b[37m· \u001b[0m\u001b[37m· \u001b[0m\u001b[37m· \u001b[0m\u001b[37m· \u001b[0m\u001b[37m· \u001b[0m\u001b[37m· \u001b[0m\u001b[37m· \u001b[0m\u001b[37m· \u001b[0m      \n",
      "    \u001b[37m· \u001b[0m\u001b[37m· \u001b[0m\u001b[37m· \u001b[0m\u001b[37m· \u001b[0m\u001b[37m· \u001b[0m\u001b[37m· \u001b[0m\u001b[37m· \u001b[0m\u001b[37m· \u001b[0m\u001b[37m· \u001b[0m\u001b[37m· \u001b[0m\u001b[37m· \u001b[0m\u001b[37m· \u001b[0m\u001b[37m· \u001b[0m\u001b[37m· \u001b[0m\u001b[37m· \u001b[0m\u001b[37m· \u001b[0m\u001b[37m· \u001b[0m\u001b[37m· \u001b[0m\u001b[37m· \u001b[0m\u001b[37m· \u001b[0m\u001b[37m· \u001b[0m\u001b[37m· \u001b[0m\u001b[37m· \u001b[0m\u001b[37m· \u001b[0m    \n",
      "  \u001b[37m· \u001b[0m\u001b[37m· \u001b[0m\u001b[37m· \u001b[0m\u001b[37m· \u001b[0m\u001b[37m· \u001b[0m\u001b[37m· \u001b[0m\u001b[37m· \u001b[0m\u001b[37m· \u001b[0m\u001b[37m· \u001b[0m\u001b[37m· \u001b[0m\u001b[37m· \u001b[0m\u001b[37m· \u001b[0m\u001b[37m· \u001b[0m\u001b[37m· \u001b[0m\u001b[37m· \u001b[0m\u001b[37m· \u001b[0m\u001b[37m· \u001b[0m\u001b[37m· \u001b[0m\u001b[37m· \u001b[0m\u001b[37m· \u001b[0m\u001b[37m· \u001b[0m\u001b[37m· \u001b[0m\u001b[37m· \u001b[0m\u001b[37m· \u001b[0m\u001b[37m· \u001b[0m\u001b[37m· \u001b[0m  \n",
      "\u001b[37m· \u001b[0m\u001b[37m· \u001b[0m\u001b[37m· \u001b[0m\u001b[37m· \u001b[0m\u001b[37m· \u001b[0m\u001b[37m· \u001b[0m\u001b[37m· \u001b[0m\u001b[37m· \u001b[0m\u001b[37m· \u001b[0m\u001b[37m· \u001b[0m\u001b[37m· \u001b[0m\u001b[37m· \u001b[0m\u001b[37m· \u001b[0m\u001b[37m· \u001b[0m\u001b[37m· \u001b[0m\u001b[37m· \u001b[0m\u001b[37m· \u001b[0m\u001b[37m· \u001b[0m\u001b[37m· \u001b[0m\u001b[37m· \u001b[0m\u001b[37m· \u001b[0m\u001b[37m· \u001b[0m\u001b[37m· \u001b[0m\u001b[37m· \u001b[0m\u001b[37m· \u001b[0m\u001b[37m· \u001b[0m\u001b[37m· \u001b[0m\u001b[37m· \u001b[0m\n",
      "\u001b[37m· \u001b[0m\u001b[37m· \u001b[0m\u001b[37m· \u001b[0m\u001b[37m· \u001b[0m\u001b[37m· \u001b[0m\u001b[37m· \u001b[0m\u001b[37m· \u001b[0m\u001b[37m· \u001b[0m\u001b[37m· \u001b[0m\u001b[37m· \u001b[0m\u001b[37m· \u001b[0m\u001b[37m· \u001b[0m\u001b[37m· \u001b[0m\u001b[37m· \u001b[0m\u001b[37m· \u001b[0m\u001b[37m· \u001b[0m\u001b[37m· \u001b[0m\u001b[37m· \u001b[0m\u001b[37m· \u001b[0m\u001b[37m· \u001b[0m\u001b[37m· \u001b[0m\u001b[37m· \u001b[0m\u001b[37m· \u001b[0m\u001b[37m· \u001b[0m\u001b[37m· \u001b[0m\u001b[37m· \u001b[0m\u001b[37m· \u001b[0m\u001b[37m· \u001b[0m\n",
      "  \u001b[37m· \u001b[0m\u001b[37m· \u001b[0m\u001b[37m· \u001b[0m\u001b[37m· \u001b[0m\u001b[37m· \u001b[0m\u001b[37m· \u001b[0m\u001b[37m· \u001b[0m\u001b[37m· \u001b[0m\u001b[37m· \u001b[0m\u001b[37m· \u001b[0m\u001b[37m· \u001b[0m\u001b[37m· \u001b[0m\u001b[37m· \u001b[0m\u001b[37m· \u001b[0m\u001b[37m· \u001b[0m\u001b[37m· \u001b[0m\u001b[37m· \u001b[0m\u001b[37m· \u001b[0m\u001b[37m· \u001b[0m\u001b[37m· \u001b[0m\u001b[37m· \u001b[0m\u001b[37m· \u001b[0m\u001b[37m· \u001b[0m\u001b[37m· \u001b[0m\u001b[37m· \u001b[0m\u001b[37m· \u001b[0m  \n",
      "    \u001b[37m· \u001b[0m\u001b[37m· \u001b[0m\u001b[37m· \u001b[0m\u001b[37m· \u001b[0m\u001b[37m· \u001b[0m\u001b[37m· \u001b[0m\u001b[37m· \u001b[0m\u001b[37m· \u001b[0m\u001b[37m· \u001b[0m\u001b[37m· \u001b[0m\u001b[37m· \u001b[0m\u001b[37m· \u001b[0m\u001b[37m· \u001b[0m\u001b[37m· \u001b[0m\u001b[37m· \u001b[0m\u001b[37m· \u001b[0m\u001b[37m· \u001b[0m\u001b[37m· \u001b[0m\u001b[37m· \u001b[0m\u001b[37m· \u001b[0m\u001b[37m· \u001b[0m\u001b[37m· \u001b[0m\u001b[37m· \u001b[0m\u001b[37m· \u001b[0m    \n",
      "      \u001b[37m· \u001b[0m\u001b[37m· \u001b[0m\u001b[37m· \u001b[0m\u001b[37m· \u001b[0m\u001b[37m· \u001b[0m\u001b[37m· \u001b[0m\u001b[37m· \u001b[0m\u001b[37m· \u001b[0m\u001b[37m· \u001b[0m\u001b[37m· \u001b[0m\u001b[37m· \u001b[0m\u001b[37m· \u001b[0m\u001b[37m· \u001b[0m\u001b[37m· \u001b[0m\u001b[37m· \u001b[0m\u001b[37m· \u001b[0m\u001b[37m· \u001b[0m\u001b[37m· \u001b[0m\u001b[37m· \u001b[0m\u001b[37m· \u001b[0m\u001b[37m· \u001b[0m\u001b[37m· \u001b[0m      \n",
      "        \u001b[37m· \u001b[0m\u001b[37m· \u001b[0m\u001b[37m· \u001b[0m\u001b[37m· \u001b[0m\u001b[37m· \u001b[0m\u001b[37m· \u001b[0m\u001b[37m· \u001b[0m\u001b[37m· \u001b[0m\u001b[37m· \u001b[0m\u001b[37m· \u001b[0m\u001b[37m· \u001b[0m\u001b[37m· \u001b[0m\u001b[37m· \u001b[0m\u001b[37m· \u001b[0m\u001b[37m· \u001b[0m\u001b[37m· \u001b[0m\u001b[37m· \u001b[0m\u001b[37m· \u001b[0m\u001b[37m· \u001b[0m\u001b[37m· \u001b[0m        \n",
      "          \u001b[37m· \u001b[0m\u001b[37m· \u001b[0m\u001b[37m· \u001b[0m\u001b[37m· \u001b[0m\u001b[37m· \u001b[0m\u001b[37m· \u001b[0m\u001b[37m· \u001b[0m\u001b[37m· \u001b[0m\u001b[37m· \u001b[0m\u001b[37m· \u001b[0m\u001b[37m· \u001b[0m\u001b[37m· \u001b[0m\u001b[37m· \u001b[0m\u001b[37m· \u001b[0m\u001b[37m· \u001b[0m\u001b[37m· \u001b[0m\u001b[37m· \u001b[0m\u001b[37m· \u001b[0m          \n",
      "            \u001b[37m· \u001b[0m\u001b[37m· \u001b[0m\u001b[37m· \u001b[0m\u001b[37m· \u001b[0m\u001b[37m· \u001b[0m\u001b[37m· \u001b[0m\u001b[37m· \u001b[0m\u001b[37m· \u001b[0m\u001b[37m· \u001b[0m\u001b[37m· \u001b[0m\u001b[37m· \u001b[0m\u001b[37m· \u001b[0m\u001b[37m· \u001b[0m\u001b[37m· \u001b[0m\u001b[37m· \u001b[0m\u001b[37m· \u001b[0m            \n",
      "              \u001b[37m· \u001b[0m\u001b[37m· \u001b[0m\u001b[37m· \u001b[0m\u001b[37m· \u001b[0m\u001b[37m· \u001b[0m\u001b[37m· \u001b[0m\u001b[37m· \u001b[0m\u001b[37m· \u001b[0m\u001b[37m· \u001b[0m\u001b[37m· \u001b[0m\u001b[37m· \u001b[0m\u001b[37m· \u001b[0m\u001b[37m· \u001b[0m\u001b[37m· \u001b[0m              \n",
      "                \u001b[37m· \u001b[0m\u001b[37m· \u001b[0m\u001b[37m· \u001b[0m\u001b[37m· \u001b[0m\u001b[37m· \u001b[0m\u001b[37m· \u001b[0m\u001b[37m· \u001b[0m\u001b[37m· \u001b[0m\u001b[37m· \u001b[0m\u001b[37m· \u001b[0m\u001b[37m· \u001b[0m\u001b[37m· \u001b[0m                \n",
      "                  \u001b[37m· \u001b[0m\u001b[37m· \u001b[0m\u001b[37m· \u001b[0m\u001b[37m· \u001b[0m\u001b[37m· \u001b[0m\u001b[37m· \u001b[0m\u001b[37m· \u001b[0m\u001b[37m· \u001b[0m\u001b[37m· \u001b[0m\u001b[37m· \u001b[0m                  \n",
      "                    \u001b[37m· \u001b[0m\u001b[37m· \u001b[0m\u001b[37m· \u001b[0m\u001b[37m· \u001b[0m\u001b[37m· \u001b[0m\u001b[37m· \u001b[0m\u001b[37m· \u001b[0m\u001b[37m· \u001b[0m                    \n",
      "                      \u001b[37m· \u001b[0m\u001b[37m· \u001b[0m\u001b[37m· \u001b[0m\u001b[37m· \u001b[0m\u001b[37m· \u001b[0m\u001b[37m· \u001b[0m                      \n",
      "                        \u001b[37m· \u001b[0m\u001b[37m· \u001b[0m\u001b[37m· \u001b[0m\u001b[37m· \u001b[0m                        \n",
      "                          \u001b[37m· \u001b[0m\u001b[37m· \u001b[0m                          \n",
      "\n",
      "Legend:\n",
      "\u001b[32mGreen\u001b[0m: High Health, \u001b[33mYellow\u001b[0m: Medium Health, \u001b[31mRed\u001b[0m: Low Health\n",
      "S/s: Scout, D/d: Demolisher, I/i: Interceptor\n",
      "W/w: Wall, U/u: Support, T/t: Turret\n",
      "Uppercase: Player 1, Lowercase: Player 2\n"
     ]
    }
   ],
   "source": [
    "print(game.render())"
   ]
  },
  {
   "cell_type": "code",
   "execution_count": 5,
   "metadata": {},
   "outputs": [
    {
     "name": "stdout",
     "output_type": "stream",
     "text": [
      "\n",
      "Joe Biden's turn to deploy units and structures.\n",
      "Mobile Points: 5, Structure Points: 40\n",
      "\n",
      "Donald Trump's turn to deploy units and structures.\n",
      "Mobile Points: 5, Structure Points: 40\n"
     ]
    }
   ],
   "source": [
    "game.deploy_phase()"
   ]
  },
  {
   "cell_type": "code",
   "execution_count": 6,
   "metadata": {},
   "outputs": [
    {
     "name": "stdout",
     "output_type": "stream",
     "text": [
      "Turn: 0/100\n",
      "Frame: 0\n",
      "\n",
      "Player 1: \u001b[31m♥♥♥♥♥♥♥♥♥♥♥♥♥♥♥♥♥♥♥♥♥♥♥♥♥♥♥♥♥♥\u001b[0m                          \n",
      "Player 2: \u001b[31m♥♥♥♥♥♥♥♥♥♥♥♥♥♥♥♥♥♥♥♥♥♥♥♥♥♥♥♥♥♥                          \u001b[0m\n",
      "\n",
      "P1 Resources - Mobile: \u001b[36m4.0\u001b[0m, Structure: \u001b[33m40.0\u001b[0m\n",
      "P2 Resources - Mobile: \u001b[36m5.0\u001b[0m, Structure: \u001b[33m40.0\u001b[0m\n",
      "\n",
      "                          \u001b[37m· \u001b[0m\u001b[37m· \u001b[0m                          \n",
      "                        \u001b[37m· \u001b[0m\u001b[37m· \u001b[0m\u001b[37m· \u001b[0m\u001b[37m· \u001b[0m                        \n",
      "                      \u001b[37m· \u001b[0m\u001b[37m· \u001b[0m\u001b[37m· \u001b[0m\u001b[37m· \u001b[0m\u001b[37m· \u001b[0m\u001b[37m· \u001b[0m                      \n",
      "                    \u001b[37m· \u001b[0m\u001b[37m· \u001b[0m\u001b[37m· \u001b[0m\u001b[37m· \u001b[0m\u001b[37m· \u001b[0m\u001b[37m· \u001b[0m\u001b[37m· \u001b[0m\u001b[37m· \u001b[0m                    \n",
      "                  \u001b[37m· \u001b[0m\u001b[37m· \u001b[0m\u001b[37m· \u001b[0m\u001b[37m· \u001b[0m\u001b[37m· \u001b[0m\u001b[37m· \u001b[0m\u001b[37m· \u001b[0m\u001b[37m· \u001b[0m\u001b[37m· \u001b[0m\u001b[37m· \u001b[0m                  \n",
      "                \u001b[37m· \u001b[0m\u001b[37m· \u001b[0m\u001b[37m· \u001b[0m\u001b[37m· \u001b[0m\u001b[37m· \u001b[0m\u001b[37m· \u001b[0m\u001b[37m· \u001b[0m\u001b[37m· \u001b[0m\u001b[37m· \u001b[0m\u001b[37m· \u001b[0m\u001b[37m· \u001b[0m\u001b[37m· \u001b[0m                \n",
      "              \u001b[37m· \u001b[0m\u001b[37m· \u001b[0m\u001b[37m· \u001b[0m\u001b[37m· \u001b[0m\u001b[37m· \u001b[0m\u001b[37m· \u001b[0m\u001b[37m· \u001b[0m\u001b[37m· \u001b[0m\u001b[37m· \u001b[0m\u001b[37m· \u001b[0m\u001b[37m· \u001b[0m\u001b[37m· \u001b[0m\u001b[37m· \u001b[0m\u001b[37m· \u001b[0m              \n",
      "            \u001b[37m· \u001b[0m\u001b[37m· \u001b[0m\u001b[37m· \u001b[0m\u001b[37m· \u001b[0m\u001b[37m· \u001b[0m\u001b[37m· \u001b[0m\u001b[37m· \u001b[0m\u001b[37m· \u001b[0m\u001b[37m· \u001b[0m\u001b[37m· \u001b[0m\u001b[37m· \u001b[0m\u001b[37m· \u001b[0m\u001b[37m· \u001b[0m\u001b[37m· \u001b[0m\u001b[37m· \u001b[0m\u001b[37m· \u001b[0m            \n",
      "          \u001b[37m· \u001b[0m\u001b[37m· \u001b[0m\u001b[37m· \u001b[0m\u001b[37m· \u001b[0m\u001b[37m· \u001b[0m\u001b[37m· \u001b[0m\u001b[37m· \u001b[0m\u001b[37m· \u001b[0m\u001b[37m· \u001b[0m\u001b[37m· \u001b[0m\u001b[37m· \u001b[0m\u001b[37m· \u001b[0m\u001b[37m· \u001b[0m\u001b[37m· \u001b[0m\u001b[37m· \u001b[0m\u001b[37m· \u001b[0m\u001b[37m· \u001b[0m\u001b[37m· \u001b[0m          \n",
      "        \u001b[37m· \u001b[0m\u001b[37m· \u001b[0m\u001b[37m· \u001b[0m\u001b[37m· \u001b[0m\u001b[37m· \u001b[0m\u001b[37m· \u001b[0m\u001b[37m· \u001b[0m\u001b[37m· \u001b[0m\u001b[37m· \u001b[0m\u001b[37m· \u001b[0m\u001b[37m· \u001b[0m\u001b[37m· \u001b[0m\u001b[37m· \u001b[0m\u001b[37m· \u001b[0m\u001b[37m· \u001b[0m\u001b[37m· \u001b[0m\u001b[37m· \u001b[0m\u001b[37m· \u001b[0m\u001b[37m· \u001b[0m\u001b[37m· \u001b[0m        \n",
      "      \u001b[37m· \u001b[0m\u001b[37m· \u001b[0m\u001b[37m· \u001b[0m\u001b[37m· \u001b[0m\u001b[37m· \u001b[0m\u001b[37m· \u001b[0m\u001b[37m· \u001b[0m\u001b[37m· \u001b[0m\u001b[37m· \u001b[0m\u001b[37m· \u001b[0m\u001b[37m· \u001b[0m\u001b[37m· \u001b[0m\u001b[37m· \u001b[0m\u001b[37m· \u001b[0m\u001b[37m· \u001b[0m\u001b[37m· \u001b[0m\u001b[37m· \u001b[0m\u001b[37m· \u001b[0m\u001b[37m· \u001b[0m\u001b[37m· \u001b[0m\u001b[37m· \u001b[0m\u001b[37m· \u001b[0m      \n",
      "    \u001b[37m· \u001b[0m\u001b[37m· \u001b[0m\u001b[37m· \u001b[0m\u001b[37m· \u001b[0m\u001b[37m· \u001b[0m\u001b[37m· \u001b[0m\u001b[37m· \u001b[0m\u001b[37m· \u001b[0m\u001b[37m· \u001b[0m\u001b[37m· \u001b[0m\u001b[37m· \u001b[0m\u001b[37m· \u001b[0m\u001b[37m· \u001b[0m\u001b[37m· \u001b[0m\u001b[37m· \u001b[0m\u001b[37m· \u001b[0m\u001b[37m· \u001b[0m\u001b[37m· \u001b[0m\u001b[37m· \u001b[0m\u001b[37m· \u001b[0m\u001b[37m· \u001b[0m\u001b[37m· \u001b[0m\u001b[37m· \u001b[0m\u001b[37m· \u001b[0m    \n",
      "  \u001b[37m· \u001b[0m\u001b[37m· \u001b[0m\u001b[37m· \u001b[0m\u001b[37m· \u001b[0m\u001b[37m· \u001b[0m\u001b[37m· \u001b[0m\u001b[37m· \u001b[0m\u001b[37m· \u001b[0m\u001b[37m· \u001b[0m\u001b[37m· \u001b[0m\u001b[37m· \u001b[0m\u001b[37m· \u001b[0m\u001b[37m· \u001b[0m\u001b[37m· \u001b[0m\u001b[37m· \u001b[0m\u001b[37m· \u001b[0m\u001b[37m· \u001b[0m\u001b[37m· \u001b[0m\u001b[37m· \u001b[0m\u001b[37m· \u001b[0m\u001b[37m· \u001b[0m\u001b[37m· \u001b[0m\u001b[37m· \u001b[0m\u001b[37m· \u001b[0m\u001b[37m· \u001b[0m\u001b[37m· \u001b[0m  \n",
      "\u001b[37m· \u001b[0m\u001b[37m· \u001b[0m\u001b[37m· \u001b[0m\u001b[37m· \u001b[0m\u001b[37m· \u001b[0m\u001b[37m· \u001b[0m\u001b[37m· \u001b[0m\u001b[37m· \u001b[0m\u001b[37m· \u001b[0m\u001b[37m· \u001b[0m\u001b[37m· \u001b[0m\u001b[37m· \u001b[0m\u001b[37m· \u001b[0m\u001b[37m· \u001b[0m\u001b[37m· \u001b[0m\u001b[37m· \u001b[0m\u001b[37m· \u001b[0m\u001b[37m· \u001b[0m\u001b[37m· \u001b[0m\u001b[37m· \u001b[0m\u001b[37m· \u001b[0m\u001b[37m· \u001b[0m\u001b[37m· \u001b[0m\u001b[37m· \u001b[0m\u001b[37m· \u001b[0m\u001b[37m· \u001b[0m\u001b[37m· \u001b[0m\u001b[37m· \u001b[0m\n",
      "\u001b[37m· \u001b[0m\u001b[37m· \u001b[0m\u001b[37m· \u001b[0m\u001b[37m· \u001b[0m\u001b[37m· \u001b[0m\u001b[37m· \u001b[0m\u001b[37m· \u001b[0m\u001b[37m· \u001b[0m\u001b[37m· \u001b[0m\u001b[37m· \u001b[0m\u001b[37m· \u001b[0m\u001b[37m· \u001b[0m\u001b[37m· \u001b[0m\u001b[37m· \u001b[0m\u001b[37m· \u001b[0m\u001b[37m· \u001b[0m\u001b[37m· \u001b[0m\u001b[37m· \u001b[0m\u001b[37m· \u001b[0m\u001b[37m· \u001b[0m\u001b[37m· \u001b[0m\u001b[37m· \u001b[0m\u001b[37m· \u001b[0m\u001b[37m· \u001b[0m\u001b[37m· \u001b[0m\u001b[37m· \u001b[0m\u001b[37m· \u001b[0m\u001b[37m· \u001b[0m\n",
      "  \u001b[37m· \u001b[0m\u001b[37m· \u001b[0m\u001b[37m· \u001b[0m\u001b[37m· \u001b[0m\u001b[37m· \u001b[0m\u001b[37m· \u001b[0m\u001b[37m· \u001b[0m\u001b[37m· \u001b[0m\u001b[37m· \u001b[0m\u001b[37m· \u001b[0m\u001b[37m· \u001b[0m\u001b[37m· \u001b[0m\u001b[37m· \u001b[0m\u001b[37m· \u001b[0m\u001b[37m· \u001b[0m\u001b[37m· \u001b[0m\u001b[37m· \u001b[0m\u001b[37m· \u001b[0m\u001b[37m· \u001b[0m\u001b[37m· \u001b[0m\u001b[37m· \u001b[0m\u001b[37m· \u001b[0m\u001b[37m· \u001b[0m\u001b[37m· \u001b[0m\u001b[37m· \u001b[0m\u001b[37m· \u001b[0m  \n",
      "    \u001b[37m· \u001b[0m\u001b[37m· \u001b[0m\u001b[37m· \u001b[0m\u001b[37m· \u001b[0m\u001b[37m· \u001b[0m\u001b[37m· \u001b[0m\u001b[37m· \u001b[0m\u001b[37m· \u001b[0m\u001b[37m· \u001b[0m\u001b[37m· \u001b[0m\u001b[37m· \u001b[0m\u001b[37m· \u001b[0m\u001b[37m· \u001b[0m\u001b[37m· \u001b[0m\u001b[37m· \u001b[0m\u001b[37m· \u001b[0m\u001b[37m· \u001b[0m\u001b[37m· \u001b[0m\u001b[37m· \u001b[0m\u001b[37m· \u001b[0m\u001b[37m· \u001b[0m\u001b[37m· \u001b[0m\u001b[37m· \u001b[0m\u001b[37m· \u001b[0m    \n",
      "      \u001b[37m· \u001b[0m\u001b[37m· \u001b[0m\u001b[37m· \u001b[0m\u001b[37m· \u001b[0m\u001b[37m· \u001b[0m\u001b[37m· \u001b[0m\u001b[37m· \u001b[0m\u001b[37m· \u001b[0m\u001b[37m· \u001b[0m\u001b[37m· \u001b[0m\u001b[37m· \u001b[0m\u001b[37m· \u001b[0m\u001b[37m· \u001b[0m\u001b[37m· \u001b[0m\u001b[37m· \u001b[0m\u001b[37m· \u001b[0m\u001b[37m· \u001b[0m\u001b[37m· \u001b[0m\u001b[37m· \u001b[0m\u001b[37m· \u001b[0m\u001b[37m· \u001b[0m\u001b[37m· \u001b[0m      \n",
      "        \u001b[37m· \u001b[0m\u001b[37m· \u001b[0m\u001b[37m· \u001b[0m\u001b[37m· \u001b[0m\u001b[37m· \u001b[0m\u001b[37m· \u001b[0m\u001b[37m· \u001b[0m\u001b[37m· \u001b[0m\u001b[37m· \u001b[0m\u001b[37m· \u001b[0m\u001b[37m· \u001b[0m\u001b[37m· \u001b[0m\u001b[37m· \u001b[0m\u001b[37m· \u001b[0m\u001b[37m· \u001b[0m\u001b[37m· \u001b[0m\u001b[37m· \u001b[0m\u001b[37m· \u001b[0m\u001b[37m· \u001b[0m\u001b[37m· \u001b[0m        \n",
      "          \u001b[32mS \u001b[0m\u001b[37m· \u001b[0m\u001b[37m· \u001b[0m\u001b[37m· \u001b[0m\u001b[37m· \u001b[0m\u001b[37m· \u001b[0m\u001b[37m· \u001b[0m\u001b[37m· \u001b[0m\u001b[37m· \u001b[0m\u001b[37m· \u001b[0m\u001b[37m· \u001b[0m\u001b[37m· \u001b[0m\u001b[37m· \u001b[0m\u001b[37m· \u001b[0m\u001b[37m· \u001b[0m\u001b[37m· \u001b[0m\u001b[37m· \u001b[0m\u001b[37m· \u001b[0m          \n",
      "            \u001b[37m· \u001b[0m\u001b[37m· \u001b[0m\u001b[37m· \u001b[0m\u001b[37m· \u001b[0m\u001b[37m· \u001b[0m\u001b[37m· \u001b[0m\u001b[37m· \u001b[0m\u001b[37m· \u001b[0m\u001b[37m· \u001b[0m\u001b[37m· \u001b[0m\u001b[37m· \u001b[0m\u001b[37m· \u001b[0m\u001b[37m· \u001b[0m\u001b[37m· \u001b[0m\u001b[37m· \u001b[0m\u001b[37m· \u001b[0m            \n",
      "              \u001b[37m· \u001b[0m\u001b[37m· \u001b[0m\u001b[37m· \u001b[0m\u001b[37m· \u001b[0m\u001b[37m· \u001b[0m\u001b[37m· \u001b[0m\u001b[37m· \u001b[0m\u001b[37m· \u001b[0m\u001b[37m· \u001b[0m\u001b[37m· \u001b[0m\u001b[37m· \u001b[0m\u001b[37m· \u001b[0m\u001b[37m· \u001b[0m\u001b[37m· \u001b[0m              \n",
      "                \u001b[37m· \u001b[0m\u001b[37m· \u001b[0m\u001b[37m· \u001b[0m\u001b[37m· \u001b[0m\u001b[37m· \u001b[0m\u001b[37m· \u001b[0m\u001b[37m· \u001b[0m\u001b[37m· \u001b[0m\u001b[37m· \u001b[0m\u001b[37m· \u001b[0m\u001b[37m· \u001b[0m\u001b[37m· \u001b[0m                \n",
      "                  \u001b[37m· \u001b[0m\u001b[37m· \u001b[0m\u001b[37m· \u001b[0m\u001b[37m· \u001b[0m\u001b[37m· \u001b[0m\u001b[37m· \u001b[0m\u001b[37m· \u001b[0m\u001b[37m· \u001b[0m\u001b[37m· \u001b[0m\u001b[37m· \u001b[0m                  \n",
      "                    \u001b[37m· \u001b[0m\u001b[37m· \u001b[0m\u001b[37m· \u001b[0m\u001b[37m· \u001b[0m\u001b[37m· \u001b[0m\u001b[37m· \u001b[0m\u001b[37m· \u001b[0m\u001b[37m· \u001b[0m                    \n",
      "                      \u001b[37m· \u001b[0m\u001b[37m· \u001b[0m\u001b[37m· \u001b[0m\u001b[37m· \u001b[0m\u001b[37m· \u001b[0m\u001b[37m· \u001b[0m                      \n",
      "                        \u001b[37m· \u001b[0m\u001b[37m· \u001b[0m\u001b[37m· \u001b[0m\u001b[37m· \u001b[0m                        \n",
      "                          \u001b[37m· \u001b[0m\u001b[37m· \u001b[0m                          \n",
      "\n",
      "Legend:\n",
      "\u001b[32mGreen\u001b[0m: High Health, \u001b[33mYellow\u001b[0m: Medium Health, \u001b[31mRed\u001b[0m: Low Health\n",
      "S/s: Scout, D/d: Demolisher, I/i: Interceptor\n",
      "W/w: Wall, U/u: Support, T/t: Turret\n",
      "Uppercase: Player 1, Lowercase: Player 2\n"
     ]
    }
   ],
   "source": [
    "print(game.render())"
   ]
  },
  {
   "cell_type": "code",
   "execution_count": 36,
   "metadata": {},
   "outputs": [
    {
     "name": "stdout",
     "output_type": "stream",
     "text": [
      "False\n",
      "Turn: 0/100\n",
      "Frame: 30\n",
      "\n",
      "Player 1: \u001b[31m♥♥♥♥♥♥♥♥♥♥♥♥♥♥♥♥♥♥♥♥♥♥♥♥♥♥♥♥♥♥\u001b[0m                          \n",
      "Player 2: \u001b[31m♥♥♥♥♥♥♥♥♥♥♥♥♥♥♥♥♥♥♥♥♥♥♥♥♥♥♥♥♥                          \u001b[0m\n",
      "\n",
      "P1 Resources - Mobile: \u001b[36m4.0\u001b[0m, Structure: \u001b[33m40.0\u001b[0m\n",
      "P2 Resources - Mobile: \u001b[36m5.0\u001b[0m, Structure: \u001b[33m40.0\u001b[0m\n",
      "\n",
      "                          \u001b[37m· \u001b[0m\u001b[37m· \u001b[0m                          \n",
      "                        \u001b[37m· \u001b[0m\u001b[37m· \u001b[0m\u001b[37m· \u001b[0m\u001b[37m· \u001b[0m                        \n",
      "                      \u001b[37m· \u001b[0m\u001b[37m· \u001b[0m\u001b[37m· \u001b[0m\u001b[37m· \u001b[0m\u001b[37m· \u001b[0m\u001b[37m· \u001b[0m                      \n",
      "                    \u001b[37m· \u001b[0m\u001b[37m· \u001b[0m\u001b[37m· \u001b[0m\u001b[37m· \u001b[0m\u001b[37m· \u001b[0m\u001b[37m· \u001b[0m\u001b[37m· \u001b[0m\u001b[37m· \u001b[0m                    \n",
      "                  \u001b[37m· \u001b[0m\u001b[37m· \u001b[0m\u001b[37m· \u001b[0m\u001b[37m· \u001b[0m\u001b[37m· \u001b[0m\u001b[37m· \u001b[0m\u001b[37m· \u001b[0m\u001b[37m· \u001b[0m\u001b[37m· \u001b[0m\u001b[37m· \u001b[0m                  \n",
      "                \u001b[37m· \u001b[0m\u001b[37m· \u001b[0m\u001b[37m· \u001b[0m\u001b[37m· \u001b[0m\u001b[37m· \u001b[0m\u001b[37m· \u001b[0m\u001b[37m· \u001b[0m\u001b[37m· \u001b[0m\u001b[37m· \u001b[0m\u001b[37m· \u001b[0m\u001b[37m· \u001b[0m\u001b[37m· \u001b[0m                \n",
      "              \u001b[37m· \u001b[0m\u001b[37m· \u001b[0m\u001b[37m· \u001b[0m\u001b[37m· \u001b[0m\u001b[37m· \u001b[0m\u001b[37m· \u001b[0m\u001b[37m· \u001b[0m\u001b[37m· \u001b[0m\u001b[37m· \u001b[0m\u001b[37m· \u001b[0m\u001b[37m· \u001b[0m\u001b[37m· \u001b[0m\u001b[37m· \u001b[0m\u001b[37m· \u001b[0m              \n",
      "            \u001b[37m· \u001b[0m\u001b[37m· \u001b[0m\u001b[37m· \u001b[0m\u001b[37m· \u001b[0m\u001b[37m· \u001b[0m\u001b[37m· \u001b[0m\u001b[37m· \u001b[0m\u001b[37m· \u001b[0m\u001b[37m· \u001b[0m\u001b[37m· \u001b[0m\u001b[37m· \u001b[0m\u001b[37m· \u001b[0m\u001b[37m· \u001b[0m\u001b[37m· \u001b[0m\u001b[37m· \u001b[0m\u001b[37m· \u001b[0m            \n",
      "          \u001b[37m· \u001b[0m\u001b[37m· \u001b[0m\u001b[37m· \u001b[0m\u001b[37m· \u001b[0m\u001b[37m· \u001b[0m\u001b[37m· \u001b[0m\u001b[37m· \u001b[0m\u001b[37m· \u001b[0m\u001b[37m· \u001b[0m\u001b[37m· \u001b[0m\u001b[37m· \u001b[0m\u001b[37m· \u001b[0m\u001b[37m· \u001b[0m\u001b[37m· \u001b[0m\u001b[37m· \u001b[0m\u001b[37m· \u001b[0m\u001b[37m· \u001b[0m\u001b[37m· \u001b[0m          \n",
      "        \u001b[37m· \u001b[0m\u001b[37m· \u001b[0m\u001b[37m· \u001b[0m\u001b[37m· \u001b[0m\u001b[37m· \u001b[0m\u001b[37m· \u001b[0m\u001b[37m· \u001b[0m\u001b[37m· \u001b[0m\u001b[37m· \u001b[0m\u001b[37m· \u001b[0m\u001b[37m· \u001b[0m\u001b[37m· \u001b[0m\u001b[37m· \u001b[0m\u001b[37m· \u001b[0m\u001b[37m· \u001b[0m\u001b[37m· \u001b[0m\u001b[37m· \u001b[0m\u001b[37m· \u001b[0m\u001b[37m· \u001b[0m\u001b[37m· \u001b[0m        \n",
      "      \u001b[37m· \u001b[0m\u001b[37m· \u001b[0m\u001b[37m· \u001b[0m\u001b[37m· \u001b[0m\u001b[37m· \u001b[0m\u001b[37m· \u001b[0m\u001b[37m· \u001b[0m\u001b[37m· \u001b[0m\u001b[37m· \u001b[0m\u001b[37m· \u001b[0m\u001b[37m· \u001b[0m\u001b[37m· \u001b[0m\u001b[37m· \u001b[0m\u001b[37m· \u001b[0m\u001b[37m· \u001b[0m\u001b[37m· \u001b[0m\u001b[37m· \u001b[0m\u001b[37m· \u001b[0m\u001b[37m· \u001b[0m\u001b[37m· \u001b[0m\u001b[37m· \u001b[0m\u001b[37m· \u001b[0m      \n",
      "    \u001b[37m· \u001b[0m\u001b[37m· \u001b[0m\u001b[37m· \u001b[0m\u001b[37m· \u001b[0m\u001b[37m· \u001b[0m\u001b[37m· \u001b[0m\u001b[37m· \u001b[0m\u001b[37m· \u001b[0m\u001b[37m· \u001b[0m\u001b[37m· \u001b[0m\u001b[37m· \u001b[0m\u001b[37m· \u001b[0m\u001b[37m· \u001b[0m\u001b[37m· \u001b[0m\u001b[37m· \u001b[0m\u001b[37m· \u001b[0m\u001b[37m· \u001b[0m\u001b[37m· \u001b[0m\u001b[37m· \u001b[0m\u001b[37m· \u001b[0m\u001b[37m· \u001b[0m\u001b[37m· \u001b[0m\u001b[37m· \u001b[0m\u001b[37m· \u001b[0m    \n",
      "  \u001b[37m· \u001b[0m\u001b[37m· \u001b[0m\u001b[37m· \u001b[0m\u001b[37m· \u001b[0m\u001b[37m· \u001b[0m\u001b[37m· \u001b[0m\u001b[37m· \u001b[0m\u001b[37m· \u001b[0m\u001b[37m· \u001b[0m\u001b[37m· \u001b[0m\u001b[37m· \u001b[0m\u001b[37m· \u001b[0m\u001b[37m· \u001b[0m\u001b[37m· \u001b[0m\u001b[37m· \u001b[0m\u001b[37m· \u001b[0m\u001b[37m· \u001b[0m\u001b[37m· \u001b[0m\u001b[37m· \u001b[0m\u001b[37m· \u001b[0m\u001b[37m· \u001b[0m\u001b[37m· \u001b[0m\u001b[37m· \u001b[0m\u001b[37m· \u001b[0m\u001b[37m· \u001b[0m\u001b[37m· \u001b[0m  \n",
      "\u001b[37m· \u001b[0m\u001b[37m· \u001b[0m\u001b[37m· \u001b[0m\u001b[37m· \u001b[0m\u001b[37m· \u001b[0m\u001b[37m· \u001b[0m\u001b[37m· \u001b[0m\u001b[37m· \u001b[0m\u001b[37m· \u001b[0m\u001b[37m· \u001b[0m\u001b[37m· \u001b[0m\u001b[37m· \u001b[0m\u001b[37m· \u001b[0m\u001b[37m· \u001b[0m\u001b[37m· \u001b[0m\u001b[37m· \u001b[0m\u001b[37m· \u001b[0m\u001b[37m· \u001b[0m\u001b[37m· \u001b[0m\u001b[37m· \u001b[0m\u001b[37m· \u001b[0m\u001b[37m· \u001b[0m\u001b[37m· \u001b[0m\u001b[37m· \u001b[0m\u001b[37m· \u001b[0m\u001b[37m· \u001b[0m\u001b[37m· \u001b[0m\u001b[37m· \u001b[0m\n",
      "\u001b[37m· \u001b[0m\u001b[37m· \u001b[0m\u001b[37m· \u001b[0m\u001b[37m· \u001b[0m\u001b[37m· \u001b[0m\u001b[37m· \u001b[0m\u001b[37m· \u001b[0m\u001b[37m· \u001b[0m\u001b[37m· \u001b[0m\u001b[37m· \u001b[0m\u001b[37m· \u001b[0m\u001b[37m· \u001b[0m\u001b[37m· \u001b[0m\u001b[37m· \u001b[0m\u001b[37m· \u001b[0m\u001b[37m· \u001b[0m\u001b[37m· \u001b[0m\u001b[37m· \u001b[0m\u001b[37m· \u001b[0m\u001b[37m· \u001b[0m\u001b[37m· \u001b[0m\u001b[37m· \u001b[0m\u001b[37m· \u001b[0m\u001b[37m· \u001b[0m\u001b[37m· \u001b[0m\u001b[37m· \u001b[0m\u001b[37m· \u001b[0m\u001b[37m· \u001b[0m\n",
      "  \u001b[37m· \u001b[0m\u001b[37m· \u001b[0m\u001b[37m· \u001b[0m\u001b[37m· \u001b[0m\u001b[37m· \u001b[0m\u001b[37m· \u001b[0m\u001b[37m· \u001b[0m\u001b[37m· \u001b[0m\u001b[37m· \u001b[0m\u001b[37m· \u001b[0m\u001b[37m· \u001b[0m\u001b[37m· \u001b[0m\u001b[37m· \u001b[0m\u001b[37m· \u001b[0m\u001b[37m· \u001b[0m\u001b[37m· \u001b[0m\u001b[37m· \u001b[0m\u001b[37m· \u001b[0m\u001b[37m· \u001b[0m\u001b[37m· \u001b[0m\u001b[37m· \u001b[0m\u001b[37m· \u001b[0m\u001b[37m· \u001b[0m\u001b[37m· \u001b[0m\u001b[37m· \u001b[0m\u001b[37m· \u001b[0m  \n",
      "    \u001b[37m· \u001b[0m\u001b[37m· \u001b[0m\u001b[37m· \u001b[0m\u001b[37m· \u001b[0m\u001b[37m· \u001b[0m\u001b[37m· \u001b[0m\u001b[37m· \u001b[0m\u001b[37m· \u001b[0m\u001b[37m· \u001b[0m\u001b[37m· \u001b[0m\u001b[37m· \u001b[0m\u001b[37m· \u001b[0m\u001b[37m· \u001b[0m\u001b[37m· \u001b[0m\u001b[37m· \u001b[0m\u001b[37m· \u001b[0m\u001b[37m· \u001b[0m\u001b[37m· \u001b[0m\u001b[37m· \u001b[0m\u001b[37m· \u001b[0m\u001b[37m· \u001b[0m\u001b[37m· \u001b[0m\u001b[37m· \u001b[0m\u001b[37m· \u001b[0m    \n",
      "      \u001b[37m· \u001b[0m\u001b[37m· \u001b[0m\u001b[37m· \u001b[0m\u001b[37m· \u001b[0m\u001b[37m· \u001b[0m\u001b[37m· \u001b[0m\u001b[37m· \u001b[0m\u001b[37m· \u001b[0m\u001b[37m· \u001b[0m\u001b[37m· \u001b[0m\u001b[37m· \u001b[0m\u001b[37m· \u001b[0m\u001b[37m· \u001b[0m\u001b[37m· \u001b[0m\u001b[37m· \u001b[0m\u001b[37m· \u001b[0m\u001b[37m· \u001b[0m\u001b[37m· \u001b[0m\u001b[37m· \u001b[0m\u001b[37m· \u001b[0m\u001b[37m· \u001b[0m\u001b[37m· \u001b[0m      \n",
      "        \u001b[37m· \u001b[0m\u001b[37m· \u001b[0m\u001b[37m· \u001b[0m\u001b[37m· \u001b[0m\u001b[37m· \u001b[0m\u001b[37m· \u001b[0m\u001b[37m· \u001b[0m\u001b[37m· \u001b[0m\u001b[37m· \u001b[0m\u001b[37m· \u001b[0m\u001b[37m· \u001b[0m\u001b[37m· \u001b[0m\u001b[37m· \u001b[0m\u001b[37m· \u001b[0m\u001b[37m· \u001b[0m\u001b[37m· \u001b[0m\u001b[37m· \u001b[0m\u001b[37m· \u001b[0m\u001b[37m· \u001b[0m\u001b[37m· \u001b[0m        \n",
      "          \u001b[37m· \u001b[0m\u001b[37m· \u001b[0m\u001b[37m· \u001b[0m\u001b[37m· \u001b[0m\u001b[37m· \u001b[0m\u001b[37m· \u001b[0m\u001b[37m· \u001b[0m\u001b[37m· \u001b[0m\u001b[37m· \u001b[0m\u001b[37m· \u001b[0m\u001b[37m· \u001b[0m\u001b[37m· \u001b[0m\u001b[37m· \u001b[0m\u001b[37m· \u001b[0m\u001b[37m· \u001b[0m\u001b[37m· \u001b[0m\u001b[37m· \u001b[0m\u001b[37m· \u001b[0m          \n",
      "            \u001b[37m· \u001b[0m\u001b[37m· \u001b[0m\u001b[37m· \u001b[0m\u001b[37m· \u001b[0m\u001b[37m· \u001b[0m\u001b[37m· \u001b[0m\u001b[37m· \u001b[0m\u001b[37m· \u001b[0m\u001b[37m· \u001b[0m\u001b[37m· \u001b[0m\u001b[37m· \u001b[0m\u001b[37m· \u001b[0m\u001b[37m· \u001b[0m\u001b[37m· \u001b[0m\u001b[37m· \u001b[0m\u001b[37m· \u001b[0m            \n",
      "              \u001b[37m· \u001b[0m\u001b[37m· \u001b[0m\u001b[37m· \u001b[0m\u001b[37m· \u001b[0m\u001b[37m· \u001b[0m\u001b[37m· \u001b[0m\u001b[37m· \u001b[0m\u001b[37m· \u001b[0m\u001b[37m· \u001b[0m\u001b[37m· \u001b[0m\u001b[37m· \u001b[0m\u001b[37m· \u001b[0m\u001b[37m· \u001b[0m\u001b[37m· \u001b[0m              \n",
      "                \u001b[37m· \u001b[0m\u001b[37m· \u001b[0m\u001b[37m· \u001b[0m\u001b[37m· \u001b[0m\u001b[37m· \u001b[0m\u001b[37m· \u001b[0m\u001b[37m· \u001b[0m\u001b[37m· \u001b[0m\u001b[37m· \u001b[0m\u001b[37m· \u001b[0m\u001b[37m· \u001b[0m\u001b[37m· \u001b[0m                \n",
      "                  \u001b[37m· \u001b[0m\u001b[37m· \u001b[0m\u001b[37m· \u001b[0m\u001b[37m· \u001b[0m\u001b[37m· \u001b[0m\u001b[37m· \u001b[0m\u001b[37m· \u001b[0m\u001b[37m· \u001b[0m\u001b[37m· \u001b[0m\u001b[37m· \u001b[0m                  \n",
      "                    \u001b[37m· \u001b[0m\u001b[37m· \u001b[0m\u001b[37m· \u001b[0m\u001b[37m· \u001b[0m\u001b[37m· \u001b[0m\u001b[37m· \u001b[0m\u001b[37m· \u001b[0m\u001b[37m· \u001b[0m                    \n",
      "                      \u001b[37m· \u001b[0m\u001b[37m· \u001b[0m\u001b[37m· \u001b[0m\u001b[37m· \u001b[0m\u001b[37m· \u001b[0m\u001b[37m· \u001b[0m                      \n",
      "                        \u001b[37m· \u001b[0m\u001b[37m· \u001b[0m\u001b[37m· \u001b[0m\u001b[37m· \u001b[0m                        \n",
      "                          \u001b[37m· \u001b[0m\u001b[37m· \u001b[0m                          \n",
      "\n",
      "Legend:\n",
      "\u001b[32mGreen\u001b[0m: High Health, \u001b[33mYellow\u001b[0m: Medium Health, \u001b[31mRed\u001b[0m: Low Health\n",
      "S/s: Scout, D/d: Demolisher, I/i: Interceptor\n",
      "W/w: Wall, U/u: Support, T/t: Turret\n",
      "Uppercase: Player 1, Lowercase: Player 2\n"
     ]
    }
   ],
   "source": [
    "render_frames = []\n",
    "print(game.units_active())\n",
    "game.process_frame()\n",
    "game.frame_count += 1\n",
    "render = game.render()\n",
    "render_frames.append(render)\n",
    "print(render)"
   ]
  },
  {
   "cell_type": "code",
   "execution_count": 37,
   "metadata": {},
   "outputs": [
    {
     "data": {
      "text/plain": [
       "'Turn: 1/100\\nFrame: 30\\n\\nPlayer 1: \\x1b[31m♥♥♥♥♥♥♥♥♥♥♥♥♥♥♥♥♥♥♥♥♥♥♥♥♥♥♥♥♥♥\\x1b[0m                          \\nPlayer 2: \\x1b[31m♥♥♥♥♥♥♥♥♥♥♥♥♥♥♥♥♥♥♥♥♥♥♥♥♥♥♥♥♥                          \\x1b[0m\\n\\nP1 Resources - Mobile: \\x1b[36m8.0\\x1b[0m, Structure: \\x1b[33m45.0\\x1b[0m\\nP2 Resources - Mobile: \\x1b[36m8.8\\x1b[0m, Structure: \\x1b[33m45.0\\x1b[0m\\n\\n                          \\x1b[37m· \\x1b[0m\\x1b[37m· \\x1b[0m                          \\n                        \\x1b[37m· \\x1b[0m\\x1b[37m· \\x1b[0m\\x1b[37m· \\x1b[0m\\x1b[37m· \\x1b[0m                        \\n                      \\x1b[37m· \\x1b[0m\\x1b[37m· \\x1b[0m\\x1b[37m· \\x1b[0m\\x1b[37m· \\x1b[0m\\x1b[37m· \\x1b[0m\\x1b[37m· \\x1b[0m                      \\n                    \\x1b[37m· \\x1b[0m\\x1b[37m· \\x1b[0m\\x1b[37m· \\x1b[0m\\x1b[37m· \\x1b[0m\\x1b[37m· \\x1b[0m\\x1b[37m· \\x1b[0m\\x1b[37m· \\x1b[0m\\x1b[37m· \\x1b[0m                    \\n                  \\x1b[37m· \\x1b[0m\\x1b[37m· \\x1b[0m\\x1b[37m· \\x1b[0m\\x1b[37m· \\x1b[0m\\x1b[37m· \\x1b[0m\\x1b[37m· \\x1b[0m\\x1b[37m· \\x1b[0m\\x1b[37m· \\x1b[0m\\x1b[37m· \\x1b[0m\\x1b[37m· \\x1b[0m                  \\n                \\x1b[37m· \\x1b[0m\\x1b[37m· \\x1b[0m\\x1b[37m· \\x1b[0m\\x1b[37m· \\x1b[0m\\x1b[37m· \\x1b[0m\\x1b[37m· \\x1b[0m\\x1b[37m· \\x1b[0m\\x1b[37m· \\x1b[0m\\x1b[37m· \\x1b[0m\\x1b[37m· \\x1b[0m\\x1b[37m· \\x1b[0m\\x1b[37m· \\x1b[0m                \\n              \\x1b[37m· \\x1b[0m\\x1b[37m· \\x1b[0m\\x1b[37m· \\x1b[0m\\x1b[37m· \\x1b[0m\\x1b[37m· \\x1b[0m\\x1b[37m· \\x1b[0m\\x1b[37m· \\x1b[0m\\x1b[37m· \\x1b[0m\\x1b[37m· \\x1b[0m\\x1b[37m· \\x1b[0m\\x1b[37m· \\x1b[0m\\x1b[37m· \\x1b[0m\\x1b[37m· \\x1b[0m\\x1b[37m· \\x1b[0m              \\n            \\x1b[37m· \\x1b[0m\\x1b[37m· \\x1b[0m\\x1b[37m· \\x1b[0m\\x1b[37m· \\x1b[0m\\x1b[37m· \\x1b[0m\\x1b[37m· \\x1b[0m\\x1b[37m· \\x1b[0m\\x1b[37m· \\x1b[0m\\x1b[37m· \\x1b[0m\\x1b[37m· \\x1b[0m\\x1b[37m· \\x1b[0m\\x1b[37m· \\x1b[0m\\x1b[37m· \\x1b[0m\\x1b[37m· \\x1b[0m\\x1b[37m· \\x1b[0m\\x1b[37m· \\x1b[0m            \\n          \\x1b[37m· \\x1b[0m\\x1b[37m· \\x1b[0m\\x1b[37m· \\x1b[0m\\x1b[37m· \\x1b[0m\\x1b[37m· \\x1b[0m\\x1b[37m· \\x1b[0m\\x1b[37m· \\x1b[0m\\x1b[37m· \\x1b[0m\\x1b[37m· \\x1b[0m\\x1b[37m· \\x1b[0m\\x1b[37m· \\x1b[0m\\x1b[37m· \\x1b[0m\\x1b[37m· \\x1b[0m\\x1b[37m· \\x1b[0m\\x1b[37m· \\x1b[0m\\x1b[37m· \\x1b[0m\\x1b[37m· \\x1b[0m\\x1b[37m· \\x1b[0m          \\n        \\x1b[37m· \\x1b[0m\\x1b[37m· \\x1b[0m\\x1b[37m· \\x1b[0m\\x1b[37m· \\x1b[0m\\x1b[37m· \\x1b[0m\\x1b[37m· \\x1b[0m\\x1b[37m· \\x1b[0m\\x1b[37m· \\x1b[0m\\x1b[37m· \\x1b[0m\\x1b[37m· \\x1b[0m\\x1b[37m· \\x1b[0m\\x1b[37m· \\x1b[0m\\x1b[37m· \\x1b[0m\\x1b[37m· \\x1b[0m\\x1b[37m· \\x1b[0m\\x1b[37m· \\x1b[0m\\x1b[37m· \\x1b[0m\\x1b[37m· \\x1b[0m\\x1b[37m· \\x1b[0m\\x1b[37m· \\x1b[0m        \\n      \\x1b[37m· \\x1b[0m\\x1b[37m· \\x1b[0m\\x1b[37m· \\x1b[0m\\x1b[37m· \\x1b[0m\\x1b[37m· \\x1b[0m\\x1b[37m· \\x1b[0m\\x1b[37m· \\x1b[0m\\x1b[37m· \\x1b[0m\\x1b[37m· \\x1b[0m\\x1b[37m· \\x1b[0m\\x1b[37m· \\x1b[0m\\x1b[37m· \\x1b[0m\\x1b[37m· \\x1b[0m\\x1b[37m· \\x1b[0m\\x1b[37m· \\x1b[0m\\x1b[37m· \\x1b[0m\\x1b[37m· \\x1b[0m\\x1b[37m· \\x1b[0m\\x1b[37m· \\x1b[0m\\x1b[37m· \\x1b[0m\\x1b[37m· \\x1b[0m\\x1b[37m· \\x1b[0m      \\n    \\x1b[37m· \\x1b[0m\\x1b[37m· \\x1b[0m\\x1b[37m· \\x1b[0m\\x1b[37m· \\x1b[0m\\x1b[37m· \\x1b[0m\\x1b[37m· \\x1b[0m\\x1b[37m· \\x1b[0m\\x1b[37m· \\x1b[0m\\x1b[37m· \\x1b[0m\\x1b[37m· \\x1b[0m\\x1b[37m· \\x1b[0m\\x1b[37m· \\x1b[0m\\x1b[37m· \\x1b[0m\\x1b[37m· \\x1b[0m\\x1b[37m· \\x1b[0m\\x1b[37m· \\x1b[0m\\x1b[37m· \\x1b[0m\\x1b[37m· \\x1b[0m\\x1b[37m· \\x1b[0m\\x1b[37m· \\x1b[0m\\x1b[37m· \\x1b[0m\\x1b[37m· \\x1b[0m\\x1b[37m· \\x1b[0m\\x1b[37m· \\x1b[0m    \\n  \\x1b[37m· \\x1b[0m\\x1b[37m· \\x1b[0m\\x1b[37m· \\x1b[0m\\x1b[37m· \\x1b[0m\\x1b[37m· \\x1b[0m\\x1b[37m· \\x1b[0m\\x1b[37m· \\x1b[0m\\x1b[37m· \\x1b[0m\\x1b[37m· \\x1b[0m\\x1b[37m· \\x1b[0m\\x1b[37m· \\x1b[0m\\x1b[37m· \\x1b[0m\\x1b[37m· \\x1b[0m\\x1b[37m· \\x1b[0m\\x1b[37m· \\x1b[0m\\x1b[37m· \\x1b[0m\\x1b[37m· \\x1b[0m\\x1b[37m· \\x1b[0m\\x1b[37m· \\x1b[0m\\x1b[37m· \\x1b[0m\\x1b[37m· \\x1b[0m\\x1b[37m· \\x1b[0m\\x1b[37m· \\x1b[0m\\x1b[37m· \\x1b[0m\\x1b[37m· \\x1b[0m\\x1b[37m· \\x1b[0m  \\n\\x1b[37m· \\x1b[0m\\x1b[37m· \\x1b[0m\\x1b[37m· \\x1b[0m\\x1b[37m· \\x1b[0m\\x1b[37m· \\x1b[0m\\x1b[37m· \\x1b[0m\\x1b[37m· \\x1b[0m\\x1b[37m· \\x1b[0m\\x1b[37m· \\x1b[0m\\x1b[37m· \\x1b[0m\\x1b[37m· \\x1b[0m\\x1b[37m· \\x1b[0m\\x1b[37m· \\x1b[0m\\x1b[37m· \\x1b[0m\\x1b[37m· \\x1b[0m\\x1b[37m· \\x1b[0m\\x1b[37m· \\x1b[0m\\x1b[37m· \\x1b[0m\\x1b[37m· \\x1b[0m\\x1b[37m· \\x1b[0m\\x1b[37m· \\x1b[0m\\x1b[37m· \\x1b[0m\\x1b[37m· \\x1b[0m\\x1b[37m· \\x1b[0m\\x1b[37m· \\x1b[0m\\x1b[37m· \\x1b[0m\\x1b[37m· \\x1b[0m\\x1b[37m· \\x1b[0m\\n\\x1b[37m· \\x1b[0m\\x1b[37m· \\x1b[0m\\x1b[37m· \\x1b[0m\\x1b[37m· \\x1b[0m\\x1b[37m· \\x1b[0m\\x1b[37m· \\x1b[0m\\x1b[37m· \\x1b[0m\\x1b[37m· \\x1b[0m\\x1b[37m· \\x1b[0m\\x1b[37m· \\x1b[0m\\x1b[37m· \\x1b[0m\\x1b[37m· \\x1b[0m\\x1b[37m· \\x1b[0m\\x1b[37m· \\x1b[0m\\x1b[37m· \\x1b[0m\\x1b[37m· \\x1b[0m\\x1b[37m· \\x1b[0m\\x1b[37m· \\x1b[0m\\x1b[37m· \\x1b[0m\\x1b[37m· \\x1b[0m\\x1b[37m· \\x1b[0m\\x1b[37m· \\x1b[0m\\x1b[37m· \\x1b[0m\\x1b[37m· \\x1b[0m\\x1b[37m· \\x1b[0m\\x1b[37m· \\x1b[0m\\x1b[37m· \\x1b[0m\\x1b[37m· \\x1b[0m\\n  \\x1b[37m· \\x1b[0m\\x1b[37m· \\x1b[0m\\x1b[37m· \\x1b[0m\\x1b[37m· \\x1b[0m\\x1b[37m· \\x1b[0m\\x1b[37m· \\x1b[0m\\x1b[37m· \\x1b[0m\\x1b[37m· \\x1b[0m\\x1b[37m· \\x1b[0m\\x1b[37m· \\x1b[0m\\x1b[37m· \\x1b[0m\\x1b[37m· \\x1b[0m\\x1b[37m· \\x1b[0m\\x1b[37m· \\x1b[0m\\x1b[37m· \\x1b[0m\\x1b[37m· \\x1b[0m\\x1b[37m· \\x1b[0m\\x1b[37m· \\x1b[0m\\x1b[37m· \\x1b[0m\\x1b[37m· \\x1b[0m\\x1b[37m· \\x1b[0m\\x1b[37m· \\x1b[0m\\x1b[37m· \\x1b[0m\\x1b[37m· \\x1b[0m\\x1b[37m· \\x1b[0m\\x1b[37m· \\x1b[0m  \\n    \\x1b[37m· \\x1b[0m\\x1b[37m· \\x1b[0m\\x1b[37m· \\x1b[0m\\x1b[37m· \\x1b[0m\\x1b[37m· \\x1b[0m\\x1b[37m· \\x1b[0m\\x1b[37m· \\x1b[0m\\x1b[37m· \\x1b[0m\\x1b[37m· \\x1b[0m\\x1b[37m· \\x1b[0m\\x1b[37m· \\x1b[0m\\x1b[37m· \\x1b[0m\\x1b[37m· \\x1b[0m\\x1b[37m· \\x1b[0m\\x1b[37m· \\x1b[0m\\x1b[37m· \\x1b[0m\\x1b[37m· \\x1b[0m\\x1b[37m· \\x1b[0m\\x1b[37m· \\x1b[0m\\x1b[37m· \\x1b[0m\\x1b[37m· \\x1b[0m\\x1b[37m· \\x1b[0m\\x1b[37m· \\x1b[0m\\x1b[37m· \\x1b[0m    \\n      \\x1b[37m· \\x1b[0m\\x1b[37m· \\x1b[0m\\x1b[37m· \\x1b[0m\\x1b[37m· \\x1b[0m\\x1b[37m· \\x1b[0m\\x1b[37m· \\x1b[0m\\x1b[37m· \\x1b[0m\\x1b[37m· \\x1b[0m\\x1b[37m· \\x1b[0m\\x1b[37m· \\x1b[0m\\x1b[37m· \\x1b[0m\\x1b[37m· \\x1b[0m\\x1b[37m· \\x1b[0m\\x1b[37m· \\x1b[0m\\x1b[37m· \\x1b[0m\\x1b[37m· \\x1b[0m\\x1b[37m· \\x1b[0m\\x1b[37m· \\x1b[0m\\x1b[37m· \\x1b[0m\\x1b[37m· \\x1b[0m\\x1b[37m· \\x1b[0m\\x1b[37m· \\x1b[0m      \\n        \\x1b[37m· \\x1b[0m\\x1b[37m· \\x1b[0m\\x1b[37m· \\x1b[0m\\x1b[37m· \\x1b[0m\\x1b[37m· \\x1b[0m\\x1b[37m· \\x1b[0m\\x1b[37m· \\x1b[0m\\x1b[37m· \\x1b[0m\\x1b[37m· \\x1b[0m\\x1b[37m· \\x1b[0m\\x1b[37m· \\x1b[0m\\x1b[37m· \\x1b[0m\\x1b[37m· \\x1b[0m\\x1b[37m· \\x1b[0m\\x1b[37m· \\x1b[0m\\x1b[37m· \\x1b[0m\\x1b[37m· \\x1b[0m\\x1b[37m· \\x1b[0m\\x1b[37m· \\x1b[0m\\x1b[37m· \\x1b[0m        \\n          \\x1b[37m· \\x1b[0m\\x1b[37m· \\x1b[0m\\x1b[37m· \\x1b[0m\\x1b[37m· \\x1b[0m\\x1b[37m· \\x1b[0m\\x1b[37m· \\x1b[0m\\x1b[37m· \\x1b[0m\\x1b[37m· \\x1b[0m\\x1b[37m· \\x1b[0m\\x1b[37m· \\x1b[0m\\x1b[37m· \\x1b[0m\\x1b[37m· \\x1b[0m\\x1b[37m· \\x1b[0m\\x1b[37m· \\x1b[0m\\x1b[37m· \\x1b[0m\\x1b[37m· \\x1b[0m\\x1b[37m· \\x1b[0m\\x1b[37m· \\x1b[0m          \\n            \\x1b[37m· \\x1b[0m\\x1b[37m· \\x1b[0m\\x1b[37m· \\x1b[0m\\x1b[37m· \\x1b[0m\\x1b[37m· \\x1b[0m\\x1b[37m· \\x1b[0m\\x1b[37m· \\x1b[0m\\x1b[37m· \\x1b[0m\\x1b[37m· \\x1b[0m\\x1b[37m· \\x1b[0m\\x1b[37m· \\x1b[0m\\x1b[37m· \\x1b[0m\\x1b[37m· \\x1b[0m\\x1b[37m· \\x1b[0m\\x1b[37m· \\x1b[0m\\x1b[37m· \\x1b[0m            \\n              \\x1b[37m· \\x1b[0m\\x1b[37m· \\x1b[0m\\x1b[37m· \\x1b[0m\\x1b[37m· \\x1b[0m\\x1b[37m· \\x1b[0m\\x1b[37m· \\x1b[0m\\x1b[37m· \\x1b[0m\\x1b[37m· \\x1b[0m\\x1b[37m· \\x1b[0m\\x1b[37m· \\x1b[0m\\x1b[37m· \\x1b[0m\\x1b[37m· \\x1b[0m\\x1b[37m· \\x1b[0m\\x1b[37m· \\x1b[0m              \\n                \\x1b[37m· \\x1b[0m\\x1b[37m· \\x1b[0m\\x1b[37m· \\x1b[0m\\x1b[37m· \\x1b[0m\\x1b[37m· \\x1b[0m\\x1b[37m· \\x1b[0m\\x1b[37m· \\x1b[0m\\x1b[37m· \\x1b[0m\\x1b[37m· \\x1b[0m\\x1b[37m· \\x1b[0m\\x1b[37m· \\x1b[0m\\x1b[37m· \\x1b[0m                \\n                  \\x1b[37m· \\x1b[0m\\x1b[37m· \\x1b[0m\\x1b[37m· \\x1b[0m\\x1b[37m· \\x1b[0m\\x1b[37m· \\x1b[0m\\x1b[37m· \\x1b[0m\\x1b[37m· \\x1b[0m\\x1b[37m· \\x1b[0m\\x1b[37m· \\x1b[0m\\x1b[37m· \\x1b[0m                  \\n                    \\x1b[37m· \\x1b[0m\\x1b[37m· \\x1b[0m\\x1b[37m· \\x1b[0m\\x1b[37m· \\x1b[0m\\x1b[37m· \\x1b[0m\\x1b[37m· \\x1b[0m\\x1b[37m· \\x1b[0m\\x1b[37m· \\x1b[0m                    \\n                      \\x1b[37m· \\x1b[0m\\x1b[37m· \\x1b[0m\\x1b[37m· \\x1b[0m\\x1b[37m· \\x1b[0m\\x1b[37m· \\x1b[0m\\x1b[37m· \\x1b[0m                      \\n                        \\x1b[37m· \\x1b[0m\\x1b[37m· \\x1b[0m\\x1b[37m· \\x1b[0m\\x1b[37m· \\x1b[0m                        \\n                          \\x1b[37m· \\x1b[0m\\x1b[37m· \\x1b[0m                          \\n\\nLegend:\\n\\x1b[32mGreen\\x1b[0m: High Health, \\x1b[33mYellow\\x1b[0m: Medium Health, \\x1b[31mRed\\x1b[0m: Low Health\\nS/s: Scout, D/d: Demolisher, I/i: Interceptor\\nW/w: Wall, U/u: Support, T/t: Turret\\nUppercase: Player 1, Lowercase: Player 2'"
      ]
     },
     "execution_count": 37,
     "metadata": {},
     "output_type": "execute_result"
    }
   ],
   "source": [
    "game.current_turn += 1\n",
    "game.restore_phase()\n",
    "print(game.render())"
   ]
  }
 ],
 "metadata": {
  "kernelspec": {
   "display_name": "terminal",
   "language": "python",
   "name": "python3"
  },
  "language_info": {
   "codemirror_mode": {
    "name": "ipython",
    "version": 3
   },
   "file_extension": ".py",
   "mimetype": "text/x-python",
   "name": "python",
   "nbconvert_exporter": "python",
   "pygments_lexer": "ipython3",
   "version": "3.9.19"
  }
 },
 "nbformat": 4,
 "nbformat_minor": 2
}
